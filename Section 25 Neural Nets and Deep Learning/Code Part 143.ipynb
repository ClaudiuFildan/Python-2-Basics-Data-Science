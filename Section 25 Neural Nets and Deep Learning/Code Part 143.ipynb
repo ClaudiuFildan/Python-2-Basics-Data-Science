{
 "cells": [
  {
   "cell_type": "code",
   "execution_count": 1,
   "id": "b1fee655",
   "metadata": {},
   "outputs": [],
   "source": [
    "import pandas as pd"
   ]
  },
  {
   "cell_type": "code",
   "execution_count": 3,
   "id": "a8fc7082",
   "metadata": {},
   "outputs": [],
   "source": [
    "data_info=pd.read_csv('lending_club_info.csv',index_col='LoanStatNew')"
   ]
  },
  {
   "cell_type": "code",
   "execution_count": 4,
   "id": "c70b2959",
   "metadata": {},
   "outputs": [
    {
     "name": "stdout",
     "output_type": "stream",
     "text": [
      "Revolving line utilization rate, or the amount of credit the borrower is using relative to all available revolving credit.\n"
     ]
    }
   ],
   "source": [
    "print(data_info.loc['revol_util']['Description'])"
   ]
  },
  {
   "cell_type": "code",
   "execution_count": 6,
   "id": "20cc342b",
   "metadata": {},
   "outputs": [],
   "source": [
    "def feat_info(col_name):\n",
    "    print(data_info.loc[col_name]['Description'])"
   ]
  },
  {
   "cell_type": "code",
   "execution_count": 7,
   "id": "73fe4a51",
   "metadata": {},
   "outputs": [
    {
     "name": "stdout",
     "output_type": "stream",
     "text": [
      "Number of mortgage accounts.\n"
     ]
    }
   ],
   "source": [
    "feat_info('mort_acc')"
   ]
  },
  {
   "cell_type": "code",
   "execution_count": 8,
   "id": "fc33dcf2",
   "metadata": {},
   "outputs": [],
   "source": [
    "# Loading the data and other imports"
   ]
  },
  {
   "cell_type": "code",
   "execution_count": 9,
   "id": "9f0ea31f",
   "metadata": {},
   "outputs": [],
   "source": [
    "import pandas as pd\n",
    "import numpy as np\n",
    "import matplotlib.pyplot as plt\n",
    "import seaborn as sns\n",
    "\n",
    "#might be nedded depending on your version of Jupyter\n",
    "%matplotlib inline"
   ]
  },
  {
   "cell_type": "code",
   "execution_count": 12,
   "id": "6bb6ab46",
   "metadata": {},
   "outputs": [],
   "source": [
    "df=pd.read_csv('lending_club_loan_two.csv')"
   ]
  },
  {
   "cell_type": "code",
   "execution_count": 13,
   "id": "2da7b247",
   "metadata": {},
   "outputs": [
    {
     "name": "stdout",
     "output_type": "stream",
     "text": [
      "<class 'pandas.core.frame.DataFrame'>\n",
      "RangeIndex: 396030 entries, 0 to 396029\n",
      "Data columns (total 27 columns):\n",
      " #   Column                Non-Null Count   Dtype  \n",
      "---  ------                --------------   -----  \n",
      " 0   loan_amnt             396030 non-null  float64\n",
      " 1   term                  396030 non-null  object \n",
      " 2   int_rate              396030 non-null  float64\n",
      " 3   installment           396030 non-null  float64\n",
      " 4   grade                 396030 non-null  object \n",
      " 5   sub_grade             396030 non-null  object \n",
      " 6   emp_title             373103 non-null  object \n",
      " 7   emp_length            377729 non-null  object \n",
      " 8   home_ownership        396030 non-null  object \n",
      " 9   annual_inc            396030 non-null  float64\n",
      " 10  verification_status   396030 non-null  object \n",
      " 11  issue_d               396030 non-null  object \n",
      " 12  loan_status           396030 non-null  object \n",
      " 13  purpose               396030 non-null  object \n",
      " 14  title                 394274 non-null  object \n",
      " 15  dti                   396030 non-null  float64\n",
      " 16  earliest_cr_line      396030 non-null  object \n",
      " 17  open_acc              396030 non-null  float64\n",
      " 18  pub_rec               396030 non-null  float64\n",
      " 19  revol_bal             396030 non-null  float64\n",
      " 20  revol_util            395754 non-null  float64\n",
      " 21  total_acc             396030 non-null  float64\n",
      " 22  initial_list_status   396030 non-null  object \n",
      " 23  application_type      396030 non-null  object \n",
      " 24  mort_acc              358235 non-null  float64\n",
      " 25  pub_rec_bankruptcies  395495 non-null  float64\n",
      " 26  address               396030 non-null  object \n",
      "dtypes: float64(12), object(15)\n",
      "memory usage: 81.6+ MB\n"
     ]
    }
   ],
   "source": [
    "df.info()"
   ]
  },
  {
   "cell_type": "code",
   "execution_count": 14,
   "id": "7eeccb62",
   "metadata": {},
   "outputs": [],
   "source": [
    "# Project task "
   ]
  },
  {
   "cell_type": "code",
   "execution_count": null,
   "id": "026faa8f",
   "metadata": {},
   "outputs": [],
   "source": [
    "# SECTION 1: EXPLORATORY DATA ANALYSIS\n",
    "# OVERALL GOAL: Get an understanding for which variables are important, \n",
    "# view summary statistics, and visualize the data    "
   ]
  },
  {
   "cell_type": "code",
   "execution_count": 15,
   "id": "c649b9c1",
   "metadata": {},
   "outputs": [],
   "source": [
    "# TASK: Since we will be attempting to preding loan_status, create a countplot\n",
    "# as shownbelow"
   ]
  },
  {
   "cell_type": "code",
   "execution_count": null,
   "id": "536fc269",
   "metadata": {},
   "outputs": [],
   "source": []
  },
  {
   "cell_type": "code",
   "execution_count": 16,
   "id": "fecffb07",
   "metadata": {},
   "outputs": [],
   "source": [
    "# TASK: Create a histogram of the loan_amnt column"
   ]
  },
  {
   "cell_type": "code",
   "execution_count": null,
   "id": "1f52efa5",
   "metadata": {},
   "outputs": [],
   "source": []
  },
  {
   "cell_type": "code",
   "execution_count": 17,
   "id": "06eecd66",
   "metadata": {},
   "outputs": [],
   "source": [
    "# TASK: Let's explore correlation between the continuous feature variables. \n",
    "# Calculate the correlation between all continuos numeric variables using .corr() method"
   ]
  },
  {
   "cell_type": "code",
   "execution_count": null,
   "id": "bf7cba49",
   "metadata": {},
   "outputs": [],
   "source": []
  },
  {
   "cell_type": "code",
   "execution_count": 19,
   "id": "d8062413",
   "metadata": {},
   "outputs": [],
   "source": [
    "# TASK: Visualize the using a heatmap.Depending on yourversion of matplotlib, you may need\n",
    "# to manually adjust the heatmap"
   ]
  },
  {
   "cell_type": "code",
   "execution_count": null,
   "id": "f8e0d91c",
   "metadata": {},
   "outputs": [],
   "source": []
  },
  {
   "cell_type": "code",
   "execution_count": 20,
   "id": "a8ccb157",
   "metadata": {},
   "outputs": [],
   "source": [
    "# TASK: You should have noticed almost perfect correlation with the 'installment'\n",
    "# feature. Explore this feature further. Print out their descriptions and perform\n",
    "# a scatterplot between them. Does this relationship make sense to you?\n",
    "# Do you think there iss duplicate information here?"
   ]
  },
  {
   "cell_type": "code",
   "execution_count": null,
   "id": "84fa6966",
   "metadata": {},
   "outputs": [],
   "source": []
  },
  {
   "cell_type": "code",
   "execution_count": null,
   "id": "f166f22c",
   "metadata": {},
   "outputs": [],
   "source": []
  },
  {
   "cell_type": "code",
   "execution_count": null,
   "id": "0d419579",
   "metadata": {},
   "outputs": [],
   "source": []
  },
  {
   "cell_type": "code",
   "execution_count": 21,
   "id": "f9bede40",
   "metadata": {},
   "outputs": [],
   "source": [
    "# TASK: Create a boxplot showing the relationship between the loan_status and the Loan Amount."
   ]
  },
  {
   "cell_type": "code",
   "execution_count": null,
   "id": "19d329fd",
   "metadata": {},
   "outputs": [],
   "source": []
  },
  {
   "cell_type": "code",
   "execution_count": 22,
   "id": "52976928",
   "metadata": {},
   "outputs": [],
   "source": [
    "# Calculate the summary statistics forthe loan amount, grouped by the loan_status."
   ]
  },
  {
   "cell_type": "code",
   "execution_count": null,
   "id": "84c5e332",
   "metadata": {},
   "outputs": [],
   "source": []
  },
  {
   "cell_type": "code",
   "execution_count": 23,
   "id": "5b2c61c1",
   "metadata": {},
   "outputs": [],
   "source": [
    "# TASK: Let's explore the Grade and SubGrade columns that LendingClub attributes to the loans.\n",
    "# What are the unique possible grades and subgrades"
   ]
  },
  {
   "cell_type": "code",
   "execution_count": null,
   "id": "32760217",
   "metadata": {},
   "outputs": [],
   "source": []
  },
  {
   "cell_type": "code",
   "execution_count": 24,
   "id": "f7dcde06",
   "metadata": {},
   "outputs": [],
   "source": [
    "# TASK: Create a countplot per grade. Set the hue to the loan_status label."
   ]
  },
  {
   "cell_type": "code",
   "execution_count": null,
   "id": "ae17623d",
   "metadata": {},
   "outputs": [],
   "source": []
  },
  {
   "cell_type": "code",
   "execution_count": 25,
   "id": "1408e9bc",
   "metadata": {},
   "outputs": [],
   "source": [
    "# TASK: Display a count plot per subgrade. You may need to resize for this\n",
    "# plot and reorder the x axis. Feel free the edit the color palette. Explore both\n",
    "# all loans made per subgrade as well being separated based on the loan_status.\n",
    "# After creating  this plot, go ahead and create a similar plot, but set hue='loan_status'"
   ]
  },
  {
   "cell_type": "code",
   "execution_count": null,
   "id": "f525ed8f",
   "metadata": {},
   "outputs": [],
   "source": []
  },
  {
   "cell_type": "code",
   "execution_count": null,
   "id": "1780e071",
   "metadata": {},
   "outputs": [],
   "source": []
  },
  {
   "cell_type": "code",
   "execution_count": 26,
   "id": "e850efd1",
   "metadata": {},
   "outputs": [],
   "source": [
    "# TASK: It looks like F and G subgrades do not get paid back that often Isloate those and recreate\n",
    "# the countplot just for thosesubgrades"
   ]
  },
  {
   "cell_type": "code",
   "execution_count": null,
   "id": "efb896e8",
   "metadata": {},
   "outputs": [],
   "source": []
  },
  {
   "cell_type": "code",
   "execution_count": null,
   "id": "4b06657c",
   "metadata": {},
   "outputs": [],
   "source": []
  },
  {
   "cell_type": "code",
   "execution_count": 27,
   "id": "d919ed4e",
   "metadata": {},
   "outputs": [],
   "source": [
    "# TASK: Create a new column called 'loan_repaid' which will contain a 1 if the loan status\n",
    "# was 'Fully Paid' and a 0 if it was 'Charged Off'"
   ]
  },
  {
   "cell_type": "code",
   "execution_count": null,
   "id": "d17c2023",
   "metadata": {},
   "outputs": [],
   "source": []
  },
  {
   "cell_type": "code",
   "execution_count": 28,
   "id": "8eabe270",
   "metadata": {},
   "outputs": [],
   "source": [
    "# CHALLENGE TASK:(Note this is hand, but can be done in one line!) Create a bar plot showing the \n",
    "# correlation of the numeric features to the new loan_repaid column"
   ]
  },
  {
   "cell_type": "code",
   "execution_count": null,
   "id": "cc31fd98",
   "metadata": {},
   "outputs": [],
   "source": []
  },
  {
   "cell_type": "code",
   "execution_count": null,
   "id": "b716c75b",
   "metadata": {},
   "outputs": [],
   "source": []
  },
  {
   "cell_type": "code",
   "execution_count": null,
   "id": "0d78b4d7",
   "metadata": {},
   "outputs": [],
   "source": [
    "# SECTION 2: DATA PREPROCESSING"
   ]
  },
  {
   "cell_type": "code",
   "execution_count": null,
   "id": "23dc303e",
   "metadata": {},
   "outputs": [],
   "source": [
    "# SECTION GOALS: Remove of fill any missing data. Remove unnecessary or repetitive features.\n",
    "# Convert categorical string features to dummy variables"
   ]
  },
  {
   "cell_type": "code",
   "execution_count": null,
   "id": "7a195d5f",
   "metadata": {},
   "outputs": [],
   "source": []
  },
  {
   "cell_type": "code",
   "execution_count": 32,
   "id": "d0c0de61",
   "metadata": {},
   "outputs": [],
   "source": [
    "# Missing Data\n",
    "# Let's explore this missing data columns. We use a variety of factors to decide whether \n",
    "# or not they would  be useful, to see if we should keep, discard, or fill in the missing data."
   ]
  },
  {
   "cell_type": "code",
   "execution_count": null,
   "id": "4045245c",
   "metadata": {},
   "outputs": [],
   "source": []
  },
  {
   "cell_type": "code",
   "execution_count": 33,
   "id": "f1d6e4cb",
   "metadata": {},
   "outputs": [],
   "source": [
    "# TASK: Create a Series that display the total count of missing values per column."
   ]
  },
  {
   "cell_type": "code",
   "execution_count": null,
   "id": "56902e06",
   "metadata": {},
   "outputs": [],
   "source": []
  },
  {
   "cell_type": "code",
   "execution_count": null,
   "id": "e5cf6832",
   "metadata": {},
   "outputs": [],
   "source": [
    "# TASK: Convert this Series to be in term of procentage of the total DataFrame"
   ]
  },
  {
   "cell_type": "code",
   "execution_count": null,
   "id": "8f9265bd",
   "metadata": {},
   "outputs": [],
   "source": []
  },
  {
   "cell_type": "code",
   "execution_count": 34,
   "id": "b2acf19f",
   "metadata": {},
   "outputs": [],
   "source": [
    "# TASK: Let's examine emp_title and emp_length to see whether it will be okey to drop them.\n",
    "# Print out their feature information using the feat_info() function from the top of this notebook."
   ]
  },
  {
   "cell_type": "code",
   "execution_count": null,
   "id": "83e353c6",
   "metadata": {},
   "outputs": [],
   "source": []
  },
  {
   "cell_type": "code",
   "execution_count": null,
   "id": "da82e7f5",
   "metadata": {},
   "outputs": [],
   "source": []
  },
  {
   "cell_type": "code",
   "execution_count": 35,
   "id": "3c69ca95",
   "metadata": {},
   "outputs": [],
   "source": [
    "# TASK: How many unque employment job titles are there?"
   ]
  },
  {
   "cell_type": "code",
   "execution_count": null,
   "id": "226d367f",
   "metadata": {},
   "outputs": [],
   "source": []
  },
  {
   "cell_type": "code",
   "execution_count": 36,
   "id": "52985171",
   "metadata": {},
   "outputs": [],
   "source": [
    "# TASK: Realistically there are too many unique job titles to try to convert this to a dummy\n",
    "# variable feature. Let's remove that emp_title column."
   ]
  },
  {
   "cell_type": "code",
   "execution_count": null,
   "id": "7e54ea87",
   "metadata": {},
   "outputs": [],
   "source": []
  },
  {
   "cell_type": "code",
   "execution_count": 37,
   "id": "df8017f5",
   "metadata": {},
   "outputs": [],
   "source": [
    "# TASK: Create a count plot of the emp_length feature column. \n",
    "# Challenge: Sort the order of the values."
   ]
  },
  {
   "cell_type": "code",
   "execution_count": null,
   "id": "6646fd58",
   "metadata": {},
   "outputs": [],
   "source": []
  },
  {
   "cell_type": "code",
   "execution_count": 38,
   "id": "02351066",
   "metadata": {},
   "outputs": [],
   "source": [
    "# TASK: Plot out the countplot with a hue separating Fully Paid vs Charged Off"
   ]
  },
  {
   "cell_type": "code",
   "execution_count": null,
   "id": "7dd30f85",
   "metadata": {},
   "outputs": [],
   "source": []
  },
  {
   "cell_type": "code",
   "execution_count": 40,
   "id": "c1634587",
   "metadata": {},
   "outputs": [],
   "source": [
    "# CHALLENGE TASK: This  still does not really inform us if there is a strong  relationship between\n",
    "# employment length and being charged off, what we want is the percentage of charge offs per category.\n",
    "# Essentially informing us what percent of people per employment category did not pay back their loan.\n",
    "# There are a multitude of ways to create this Series. Once you have created it see if visualize it with\n",
    "# a bar plot. This may be tricky, refer to solutions if you get stuck on creating this Series."
   ]
  },
  {
   "cell_type": "code",
   "execution_count": null,
   "id": "20a6eccd",
   "metadata": {},
   "outputs": [],
   "source": []
  },
  {
   "cell_type": "code",
   "execution_count": null,
   "id": "b2617c97",
   "metadata": {},
   "outputs": [],
   "source": []
  },
  {
   "cell_type": "code",
   "execution_count": 41,
   "id": "3b66bdfb",
   "metadata": {},
   "outputs": [],
   "source": [
    "# TASK: Charge off rates are extremely similar across all employemnt lengths. Go ahead\n",
    "# and drop emp_length column."
   ]
  },
  {
   "cell_type": "code",
   "execution_count": null,
   "id": "44135b2f",
   "metadata": {},
   "outputs": [],
   "source": []
  },
  {
   "cell_type": "code",
   "execution_count": 42,
   "id": "ca0d43de",
   "metadata": {},
   "outputs": [],
   "source": [
    "# TASK: Revisit the DataFrame to see what feature columns still have missing data."
   ]
  },
  {
   "cell_type": "code",
   "execution_count": null,
   "id": "62b12978",
   "metadata": {},
   "outputs": [],
   "source": []
  },
  {
   "cell_type": "code",
   "execution_count": 43,
   "id": "955c2a01",
   "metadata": {},
   "outputs": [],
   "source": [
    "# TASK: Review the title column vs the purpose column. It this repeated information?"
   ]
  },
  {
   "cell_type": "code",
   "execution_count": null,
   "id": "5872e05c",
   "metadata": {},
   "outputs": [],
   "source": []
  },
  {
   "cell_type": "code",
   "execution_count": null,
   "id": "099c66bf",
   "metadata": {},
   "outputs": [],
   "source": []
  },
  {
   "cell_type": "code",
   "execution_count": 44,
   "id": "96b845ce",
   "metadata": {},
   "outputs": [
    {
     "data": {
      "text/plain": [
       "0                   Vacation\n",
       "1         Debt consolidation\n",
       "2    Credit card refinancing\n",
       "3    Credit card refinancing\n",
       "4      Credit Card Refinance\n",
       "5         Debt consolidation\n",
       "6           Home improvement\n",
       "7       No More Credit Cards\n",
       "8         Debt consolidation\n",
       "9         Debt Consolidation\n",
       "Name: title, dtype: object"
      ]
     },
     "execution_count": 44,
     "metadata": {},
     "output_type": "execute_result"
    }
   ],
   "source": [
    "df['title'].head(10)"
   ]
  },
  {
   "cell_type": "code",
   "execution_count": 45,
   "id": "05c66e8d",
   "metadata": {},
   "outputs": [],
   "source": [
    "# TASK: The title column is simply a string subcategory/description of the purpose column.\n",
    "# Go ahead and drop the title column."
   ]
  },
  {
   "cell_type": "code",
   "execution_count": null,
   "id": "c03ee9f5",
   "metadata": {},
   "outputs": [],
   "source": []
  },
  {
   "cell_type": "code",
   "execution_count": 46,
   "id": "63665617",
   "metadata": {},
   "outputs": [],
   "source": [
    "# NOTE: This is one of the hardest parts of the project! Refer to the solutions video\n",
    "# if you need guidance, feel free to fill or drop the missing values of the mort_acc\n",
    "# however ypu see fit! Here we are going with a very specific approach."
   ]
  },
  {
   "cell_type": "code",
   "execution_count": 47,
   "id": "3e0d28c0",
   "metadata": {},
   "outputs": [],
   "source": [
    "# TASK: Find out what the mort_acc feature represents"
   ]
  },
  {
   "cell_type": "code",
   "execution_count": null,
   "id": "c2ce910d",
   "metadata": {},
   "outputs": [],
   "source": []
  },
  {
   "cell_type": "code",
   "execution_count": 48,
   "id": "5e637b79",
   "metadata": {},
   "outputs": [],
   "source": [
    "# TASK Create a value_counts of the mort_acc column."
   ]
  },
  {
   "cell_type": "code",
   "execution_count": null,
   "id": "cd624f48",
   "metadata": {},
   "outputs": [],
   "source": []
  },
  {
   "cell_type": "code",
   "execution_count": 49,
   "id": "786d504f",
   "metadata": {},
   "outputs": [],
   "source": [
    "# TASK: There are many ways we could deal with this missing data. We could attempt to built\n",
    "# a simple model to fill it in, such as a linear model, we could just fill it based on the mean\n",
    "# of the other columns, or you could even bin the columns into categoris and then set NaN as \n",
    "# its own category. There is no 100% correct approach! Let's review the other columns to see\n",
    "# which most highly correlates to mort_acc"
   ]
  },
  {
   "cell_type": "code",
   "execution_count": null,
   "id": "06401f16",
   "metadata": {},
   "outputs": [],
   "source": []
  },
  {
   "cell_type": "code",
   "execution_count": 50,
   "id": "814040f4",
   "metadata": {},
   "outputs": [],
   "source": [
    "# TASK: Looks kile the total_acc feature correlates with the mort_acc, this makes sense!\n",
    "# Let's try this fillna() approach, We will group the dataframe by the total_acc and \n",
    "# calculate the mean value for the mort_acc per total_acc entry. To get the result below:"
   ]
  },
  {
   "cell_type": "code",
   "execution_count": null,
   "id": "ed88a5d4",
   "metadata": {},
   "outputs": [],
   "source": []
  },
  {
   "cell_type": "code",
   "execution_count": null,
   "id": "5645ff00",
   "metadata": {},
   "outputs": [],
   "source": [
    "# CHALLENGE TASK: Let's fill in the missing mort_acc values based on their total_acc.\n",
    "# If the mort_acc is missing, then we will fill in that missing value with the mean \n",
    "# value corresponding to its total_acc value from the Series we created above. This\n",
    "# involves using an .apply() method with two columns. Check out the link below\n",
    "# for more info, or review the solutions video/notebook. "
   ]
  },
  {
   "cell_type": "code",
   "execution_count": null,
   "id": "cb648890",
   "metadata": {},
   "outputs": [],
   "source": []
  },
  {
   "cell_type": "code",
   "execution_count": null,
   "id": "ea1dfcba",
   "metadata": {},
   "outputs": [],
   "source": []
  },
  {
   "cell_type": "code",
   "execution_count": 51,
   "id": "6360d517",
   "metadata": {},
   "outputs": [],
   "source": [
    "# TASK: revol_util and the pub_rec_bankruptcies have missing data points, but they account\n",
    "# for less 0.5% of the total data. Go ahead and remove the rowsthat are missing those \n",
    "# values in those columns with dropna()    "
   ]
  },
  {
   "cell_type": "code",
   "execution_count": null,
   "id": "10ee6949",
   "metadata": {},
   "outputs": [],
   "source": []
  },
  {
   "cell_type": "code",
   "execution_count": null,
   "id": "817f55a0",
   "metadata": {},
   "outputs": [],
   "source": []
  },
  {
   "cell_type": "code",
   "execution_count": 52,
   "id": "b2b099c5",
   "metadata": {},
   "outputs": [],
   "source": [
    "# Categorical Variablesand Dummy Variables\n",
    "# We are done working with the missing data! Now we just need to deal with the string values\n",
    "# due to the categorical columns."
   ]
  },
  {
   "cell_type": "code",
   "execution_count": 53,
   "id": "c0fc33b4",
   "metadata": {},
   "outputs": [],
   "source": [
    "# TASK: List all the columns that are currently non-numeric"
   ]
  },
  {
   "cell_type": "code",
   "execution_count": null,
   "id": "74f47d79",
   "metadata": {},
   "outputs": [],
   "source": []
  },
  {
   "cell_type": "code",
   "execution_count": null,
   "id": "cf853a72",
   "metadata": {},
   "outputs": [],
   "source": []
  },
  {
   "cell_type": "code",
   "execution_count": 54,
   "id": "6b40952c",
   "metadata": {},
   "outputs": [],
   "source": [
    "# TASK: Convert the term feature into either a 36 or 60 integer numeric data type using\n",
    "# .apply() or map()"
   ]
  },
  {
   "cell_type": "code",
   "execution_count": null,
   "id": "7b83b776",
   "metadata": {},
   "outputs": [],
   "source": []
  },
  {
   "cell_type": "code",
   "execution_count": null,
   "id": "ddd28dcf",
   "metadata": {},
   "outputs": [],
   "source": []
  },
  {
   "cell_type": "code",
   "execution_count": 55,
   "id": "bc5fe655",
   "metadata": {},
   "outputs": [],
   "source": [
    "# grade feature"
   ]
  },
  {
   "cell_type": "code",
   "execution_count": 56,
   "id": "a6435d45",
   "metadata": {},
   "outputs": [],
   "source": [
    "# TASK: We already know grade is part of sub_grade, so just \n",
    "# drop the grade feature."
   ]
  },
  {
   "cell_type": "code",
   "execution_count": null,
   "id": "f5ad5442",
   "metadata": {},
   "outputs": [],
   "source": []
  },
  {
   "cell_type": "code",
   "execution_count": null,
   "id": "da2d7581",
   "metadata": {},
   "outputs": [],
   "source": []
  },
  {
   "cell_type": "code",
   "execution_count": 57,
   "id": "8fd45848",
   "metadata": {},
   "outputs": [],
   "source": [
    "# TASK: Convert the subgrade into dummy variables. Then concatenate these new columns\n",
    "# to the or dataframe. Remember to drop the original subgrade column and to add\n",
    "# drop_first=True to your get_dummies call."
   ]
  },
  {
   "cell_type": "code",
   "execution_count": null,
   "id": "5d4ddb64",
   "metadata": {},
   "outputs": [],
   "source": []
  },
  {
   "cell_type": "code",
   "execution_count": 59,
   "id": "28693356",
   "metadata": {},
   "outputs": [],
   "source": [
    "# Verification_status, application_type, initial_list_status,purpose\n",
    "# TASK: Convert thesecolumns:['verification_status','application_type','initial_list_status',\n",
    "# 'purpose'] dummy variables and concatenate themwiththe original dataframe. Remember to set\n",
    "# drop_first=True and to drop the original columns."
   ]
  },
  {
   "cell_type": "code",
   "execution_count": null,
   "id": "5741c81e",
   "metadata": {},
   "outputs": [],
   "source": []
  },
  {
   "cell_type": "code",
   "execution_count": 60,
   "id": "a8f89b38",
   "metadata": {},
   "outputs": [],
   "source": [
    "# home_ownership"
   ]
  },
  {
   "cell_type": "code",
   "execution_count": 61,
   "id": "d13ca2e4",
   "metadata": {},
   "outputs": [],
   "source": [
    "# TASK: Review the value_counts for the home_ownership column."
   ]
  },
  {
   "cell_type": "code",
   "execution_count": null,
   "id": "9bb43240",
   "metadata": {},
   "outputs": [],
   "source": []
  },
  {
   "cell_type": "code",
   "execution_count": 62,
   "id": "b9b660c3",
   "metadata": {},
   "outputs": [],
   "source": [
    "# TASK: Convert these dummy variables, but replace NONE and ANY with OTHER,so that we\n",
    "# end up just 4 categories, MORTGAGE, RENT, OWN, OTHER. Then concatenate them with \n",
    "# the original dataframe. Remember to set drop_first=True and to drop the original columns."
   ]
  },
  {
   "cell_type": "code",
   "execution_count": null,
   "id": "d6866b72",
   "metadata": {},
   "outputs": [],
   "source": []
  },
  {
   "cell_type": "code",
   "execution_count": 63,
   "id": "5465c8e2",
   "metadata": {},
   "outputs": [],
   "source": [
    "# Address \n",
    "# TASK: Let's feature engineer a zip code column from the address in the data set. \n",
    "# Create a column called 'zip_code' that extracts the zip code from the adress column."
   ]
  },
  {
   "cell_type": "code",
   "execution_count": null,
   "id": "7c69f07d",
   "metadata": {},
   "outputs": [],
   "source": []
  },
  {
   "cell_type": "code",
   "execution_count": 64,
   "id": "5134ef1b",
   "metadata": {},
   "outputs": [],
   "source": [
    "# TASK: Now make this zip_code column into dummy variables using pandas. Concatenate the\n",
    "# result and drop the original zip_code column along with dropping the address column."
   ]
  },
  {
   "cell_type": "code",
   "execution_count": null,
   "id": "7d596a9e",
   "metadata": {},
   "outputs": [],
   "source": []
  },
  {
   "cell_type": "code",
   "execution_count": 65,
   "id": "f9602203",
   "metadata": {},
   "outputs": [],
   "source": [
    "# issue_d"
   ]
  },
  {
   "cell_type": "code",
   "execution_count": 66,
   "id": "015dbdc4",
   "metadata": {},
   "outputs": [],
   "source": [
    "# TASK: This would be data leakage, we would  not know beforehand\n",
    "# whether or not a loan would be issued when using model, so in theory\n",
    "# we would not have an issue_data, drop this feature."
   ]
  },
  {
   "cell_type": "code",
   "execution_count": null,
   "id": "b554f718",
   "metadata": {},
   "outputs": [],
   "source": []
  },
  {
   "cell_type": "code",
   "execution_count": 67,
   "id": "9240438f",
   "metadata": {},
   "outputs": [],
   "source": [
    "# earliest_cr_line"
   ]
  },
  {
   "cell_type": "code",
   "execution_count": 68,
   "id": "b3584f90",
   "metadata": {},
   "outputs": [],
   "source": [
    "# TASK: This appears to be a historical time stamp feature. Extract the year fromt\n",
    "# his feature using a fucntion, then convert it to a numeric feature.Set this new \n",
    "# data to a feature column called 'earliest_cr_year'. Then drop the \n",
    "# earliest_cr_line feature."
   ]
  },
  {
   "cell_type": "code",
   "execution_count": null,
   "id": "a10f102a",
   "metadata": {},
   "outputs": [],
   "source": []
  },
  {
   "cell_type": "code",
   "execution_count": null,
   "id": "dd6b6643",
   "metadata": {},
   "outputs": [],
   "source": []
  },
  {
   "cell_type": "code",
   "execution_count": 69,
   "id": "dfec9f4c",
   "metadata": {},
   "outputs": [],
   "source": [
    "# Train Test Split"
   ]
  },
  {
   "cell_type": "code",
   "execution_count": 70,
   "id": "61127761",
   "metadata": {},
   "outputs": [],
   "source": [
    "# TASK: Import train_test_split from sklearn"
   ]
  },
  {
   "cell_type": "code",
   "execution_count": null,
   "id": "09f690b7",
   "metadata": {},
   "outputs": [],
   "source": []
  },
  {
   "cell_type": "code",
   "execution_count": 71,
   "id": "d5e09f38",
   "metadata": {},
   "outputs": [],
   "source": [
    "# TASK: drop the load_status column we created earlier, since its a duplicate of the \n",
    "# loan_repaid column.We will use the loan_repaid columns since its already in \n",
    "# 0s and 1s"
   ]
  },
  {
   "cell_type": "code",
   "execution_count": null,
   "id": "a07935a0",
   "metadata": {},
   "outputs": [],
   "source": []
  },
  {
   "cell_type": "code",
   "execution_count": 73,
   "id": "69348797",
   "metadata": {},
   "outputs": [],
   "source": [
    "# TASK: Set X and y variables to the .values of the features and label."
   ]
  },
  {
   "cell_type": "code",
   "execution_count": null,
   "id": "2ac772b7",
   "metadata": {},
   "outputs": [],
   "source": []
  },
  {
   "cell_type": "code",
   "execution_count": null,
   "id": "794d0aeb",
   "metadata": {},
   "outputs": [],
   "source": []
  },
  {
   "cell_type": "code",
   "execution_count": 76,
   "id": "9d90d09c",
   "metadata": {},
   "outputs": [],
   "source": [
    "# OPTIONAL\n",
    "# GRABBING A SAMPLE FOR TRAINING TIME\n",
    "# OPTIONAL: Use.sample() to grab a sample of the 490k+ entries to save time\n",
    "# on training. Highly recommended fro lower RAM computers or if you are not\n",
    "# using GPU."
   ]
  },
  {
   "cell_type": "code",
   "execution_count": null,
   "id": "6bb850fb",
   "metadata": {},
   "outputs": [],
   "source": []
  },
  {
   "cell_type": "code",
   "execution_count": 77,
   "id": "92504489",
   "metadata": {},
   "outputs": [
    {
     "name": "stdout",
     "output_type": "stream",
     "text": [
      "396030\n"
     ]
    }
   ],
   "source": [
    "print(len(df))"
   ]
  },
  {
   "cell_type": "code",
   "execution_count": 78,
   "id": "1f9cb23a",
   "metadata": {},
   "outputs": [],
   "source": [
    "# TASK: Perform a train/test split with test_size=0.2 and a random_state of 101."
   ]
  },
  {
   "cell_type": "code",
   "execution_count": null,
   "id": "705890c2",
   "metadata": {},
   "outputs": [],
   "source": []
  },
  {
   "cell_type": "code",
   "execution_count": 80,
   "id": "26e78df5",
   "metadata": {},
   "outputs": [],
   "source": [
    "# Normalizing the Data\n",
    "# TASK: Usea MInMaxScalerto normalize the featuredata X_train and X_test.Recall we do not\n",
    "# want data  leakge from the testset so we only fit on the X_train data."
   ]
  },
  {
   "cell_type": "code",
   "execution_count": null,
   "id": "cdbf6320",
   "metadata": {},
   "outputs": [],
   "source": []
  },
  {
   "cell_type": "code",
   "execution_count": null,
   "id": "75d680e7",
   "metadata": {},
   "outputs": [],
   "source": []
  },
  {
   "cell_type": "code",
   "execution_count": 81,
   "id": "a67cdfbe",
   "metadata": {},
   "outputs": [],
   "source": [
    "# CREATING THE MODEL"
   ]
  },
  {
   "cell_type": "code",
   "execution_count": 82,
   "id": "3d8c83c6",
   "metadata": {},
   "outputs": [],
   "source": [
    "# TASK: Run the cell below to import nesessary Keras functions."
   ]
  },
  {
   "cell_type": "code",
   "execution_count": 87,
   "id": "a93caf22",
   "metadata": {},
   "outputs": [
    {
     "ename": "SyntaxError",
     "evalue": "invalid syntax (3730608276.py, line 2)",
     "output_type": "error",
     "traceback": [
      "\u001b[1;36m  Cell \u001b[1;32mIn[87], line 2\u001b[1;36m\u001b[0m\n\u001b[1;33m    import tensorflow.keras.model import Sequential\u001b[0m\n\u001b[1;37m                                  ^\u001b[0m\n\u001b[1;31mSyntaxError\u001b[0m\u001b[1;31m:\u001b[0m invalid syntax\n"
     ]
    }
   ],
   "source": [
    "import tensorflow as tf\n",
    "import tensorflow.keras.models import Sequential\n",
    "import tensorflow.keras.layers import Dense,Dropout"
   ]
  },
  {
   "cell_type": "code",
   "execution_count": null,
   "id": "294bdad8",
   "metadata": {},
   "outputs": [],
   "source": []
  },
  {
   "cell_type": "code",
   "execution_count": 88,
   "id": "b3bf0f67",
   "metadata": {},
   "outputs": [],
   "source": [
    "# TASK: Build a sequential modelto will be trained onthe data. You have unlimited\n",
    "# options here, but here is what the solution uses: a model that goes 78->39->19->1\n",
    "# output neuron. OPTIONAL: Explore adding Dropout layers 1 2"
   ]
  },
  {
   "cell_type": "code",
   "execution_count": null,
   "id": "aaae3979",
   "metadata": {},
   "outputs": [],
   "source": []
  },
  {
   "cell_type": "code",
   "execution_count": 89,
   "id": "edeb6803",
   "metadata": {},
   "outputs": [
    {
     "ename": "NameError",
     "evalue": "name 'Sequential' is not defined",
     "output_type": "error",
     "traceback": [
      "\u001b[1;31m---------------------------------------------------------------------------\u001b[0m",
      "\u001b[1;31mNameError\u001b[0m                                 Traceback (most recent call last)",
      "Cell \u001b[1;32mIn[89], line 2\u001b[0m\n\u001b[0;32m      1\u001b[0m \u001b[38;5;66;03m# \u001b[39;00m\n\u001b[1;32m----> 2\u001b[0m model\u001b[38;5;241m=\u001b[39mSequential()\n",
      "\u001b[1;31mNameError\u001b[0m: name 'Sequential' is not defined"
     ]
    }
   ],
   "source": [
    "# \n",
    "model=Sequential()\n",
    "\n",
    "# Choose whatever number of layers/neurons you want.\n",
    "\n",
    "# https://stats.stackexchange.com/questions/181/how-to-choose-the-number-of-hidden-layers-and-nodes-in-a-feedforward-neural-netw\n",
    "\n",
    "# Remember to compile()\n",
    "\n"
   ]
  },
  {
   "cell_type": "code",
   "execution_count": null,
   "id": "e0a18f4c",
   "metadata": {},
   "outputs": [],
   "source": []
  },
  {
   "cell_type": "code",
   "execution_count": 90,
   "id": "a3c1502f",
   "metadata": {},
   "outputs": [],
   "source": [
    "# TASK: Fit the model to the training data for at least 25 epochs. Also add in the validation\n",
    "# data for later plotting. Optional: add in a batch_size of 256."
   ]
  },
  {
   "cell_type": "code",
   "execution_count": null,
   "id": "97aa8afc",
   "metadata": {},
   "outputs": [],
   "source": []
  },
  {
   "cell_type": "code",
   "execution_count": null,
   "id": "5df246a9",
   "metadata": {},
   "outputs": [],
   "source": [
    "# TASK: OPTIONAL: Save your model."
   ]
  },
  {
   "cell_type": "code",
   "execution_count": null,
   "id": "3b70415e",
   "metadata": {},
   "outputs": [],
   "source": []
  },
  {
   "cell_type": "code",
   "execution_count": 91,
   "id": "a315ca27",
   "metadata": {},
   "outputs": [],
   "source": [
    "# SECTION 3: EVALUATING MODEL PERFORMANCE"
   ]
  },
  {
   "cell_type": "code",
   "execution_count": 92,
   "id": "712337d6",
   "metadata": {},
   "outputs": [],
   "source": [
    "# TASK: Plot out the validation loss versus the training loss. "
   ]
  },
  {
   "cell_type": "code",
   "execution_count": null,
   "id": "581cba62",
   "metadata": {},
   "outputs": [],
   "source": []
  },
  {
   "cell_type": "code",
   "execution_count": 93,
   "id": "6efe76a7",
   "metadata": {},
   "outputs": [],
   "source": [
    "# TASK: Create predictionsfrom the X_test setand display aclassificationreport and \n",
    "# confusion matrix for the X_test set."
   ]
  },
  {
   "cell_type": "code",
   "execution_count": null,
   "id": "212dcc87",
   "metadata": {},
   "outputs": [],
   "source": []
  },
  {
   "cell_type": "code",
   "execution_count": null,
   "id": "11299fb8",
   "metadata": {},
   "outputs": [],
   "source": []
  },
  {
   "cell_type": "code",
   "execution_count": 94,
   "id": "982f032e",
   "metadata": {},
   "outputs": [],
   "source": [
    "# TASK: Given the customer below, would you offerthis person a loan?"
   ]
  },
  {
   "cell_type": "code",
   "execution_count": null,
   "id": "a430f70d",
   "metadata": {},
   "outputs": [],
   "source": []
  },
  {
   "cell_type": "code",
   "execution_count": 95,
   "id": "fdfda579",
   "metadata": {},
   "outputs": [
    {
     "ename": "KeyError",
     "evalue": "\"['loan_repaid'] not found in axis\"",
     "output_type": "error",
     "traceback": [
      "\u001b[1;31m---------------------------------------------------------------------------\u001b[0m",
      "\u001b[1;31mKeyError\u001b[0m                                  Traceback (most recent call last)",
      "Cell \u001b[1;32mIn[95], line 5\u001b[0m\n\u001b[0;32m      2\u001b[0m random\u001b[38;5;241m.\u001b[39mseed(\u001b[38;5;241m101\u001b[39m)\n\u001b[0;32m      3\u001b[0m random_ind\u001b[38;5;241m=\u001b[39mrandom\u001b[38;5;241m.\u001b[39mrandint(\u001b[38;5;241m0\u001b[39m,\u001b[38;5;28mlen\u001b[39m(df))\n\u001b[1;32m----> 5\u001b[0m new_customer\u001b[38;5;241m=\u001b[39mdf\u001b[38;5;241m.\u001b[39mdrop(\u001b[38;5;124m'\u001b[39m\u001b[38;5;124mloan_repaid\u001b[39m\u001b[38;5;124m'\u001b[39m,axis\u001b[38;5;241m=\u001b[39m\u001b[38;5;241m1\u001b[39m)\u001b[38;5;241m.\u001b[39miloc[random_ind]\n\u001b[0;32m      6\u001b[0m new_customer\n",
      "File \u001b[1;32m~\\anaconda3\\Lib\\site-packages\\pandas\\core\\frame.py:5258\u001b[0m, in \u001b[0;36mDataFrame.drop\u001b[1;34m(self, labels, axis, index, columns, level, inplace, errors)\u001b[0m\n\u001b[0;32m   5110\u001b[0m \u001b[38;5;28;01mdef\u001b[39;00m \u001b[38;5;21mdrop\u001b[39m(\n\u001b[0;32m   5111\u001b[0m     \u001b[38;5;28mself\u001b[39m,\n\u001b[0;32m   5112\u001b[0m     labels: IndexLabel \u001b[38;5;241m=\u001b[39m \u001b[38;5;28;01mNone\u001b[39;00m,\n\u001b[1;32m   (...)\u001b[0m\n\u001b[0;32m   5119\u001b[0m     errors: IgnoreRaise \u001b[38;5;241m=\u001b[39m \u001b[38;5;124m\"\u001b[39m\u001b[38;5;124mraise\u001b[39m\u001b[38;5;124m\"\u001b[39m,\n\u001b[0;32m   5120\u001b[0m ) \u001b[38;5;241m-\u001b[39m\u001b[38;5;241m>\u001b[39m DataFrame \u001b[38;5;241m|\u001b[39m \u001b[38;5;28;01mNone\u001b[39;00m:\n\u001b[0;32m   5121\u001b[0m \u001b[38;5;250m    \u001b[39m\u001b[38;5;124;03m\"\"\"\u001b[39;00m\n\u001b[0;32m   5122\u001b[0m \u001b[38;5;124;03m    Drop specified labels from rows or columns.\u001b[39;00m\n\u001b[0;32m   5123\u001b[0m \n\u001b[1;32m   (...)\u001b[0m\n\u001b[0;32m   5256\u001b[0m \u001b[38;5;124;03m            weight  1.0     0.8\u001b[39;00m\n\u001b[0;32m   5257\u001b[0m \u001b[38;5;124;03m    \"\"\"\u001b[39;00m\n\u001b[1;32m-> 5258\u001b[0m     \u001b[38;5;28;01mreturn\u001b[39;00m \u001b[38;5;28msuper\u001b[39m()\u001b[38;5;241m.\u001b[39mdrop(\n\u001b[0;32m   5259\u001b[0m         labels\u001b[38;5;241m=\u001b[39mlabels,\n\u001b[0;32m   5260\u001b[0m         axis\u001b[38;5;241m=\u001b[39maxis,\n\u001b[0;32m   5261\u001b[0m         index\u001b[38;5;241m=\u001b[39mindex,\n\u001b[0;32m   5262\u001b[0m         columns\u001b[38;5;241m=\u001b[39mcolumns,\n\u001b[0;32m   5263\u001b[0m         level\u001b[38;5;241m=\u001b[39mlevel,\n\u001b[0;32m   5264\u001b[0m         inplace\u001b[38;5;241m=\u001b[39minplace,\n\u001b[0;32m   5265\u001b[0m         errors\u001b[38;5;241m=\u001b[39merrors,\n\u001b[0;32m   5266\u001b[0m     )\n",
      "File \u001b[1;32m~\\anaconda3\\Lib\\site-packages\\pandas\\core\\generic.py:4549\u001b[0m, in \u001b[0;36mNDFrame.drop\u001b[1;34m(self, labels, axis, index, columns, level, inplace, errors)\u001b[0m\n\u001b[0;32m   4547\u001b[0m \u001b[38;5;28;01mfor\u001b[39;00m axis, labels \u001b[38;5;129;01min\u001b[39;00m axes\u001b[38;5;241m.\u001b[39mitems():\n\u001b[0;32m   4548\u001b[0m     \u001b[38;5;28;01mif\u001b[39;00m labels \u001b[38;5;129;01mis\u001b[39;00m \u001b[38;5;129;01mnot\u001b[39;00m \u001b[38;5;28;01mNone\u001b[39;00m:\n\u001b[1;32m-> 4549\u001b[0m         obj \u001b[38;5;241m=\u001b[39m obj\u001b[38;5;241m.\u001b[39m_drop_axis(labels, axis, level\u001b[38;5;241m=\u001b[39mlevel, errors\u001b[38;5;241m=\u001b[39merrors)\n\u001b[0;32m   4551\u001b[0m \u001b[38;5;28;01mif\u001b[39;00m inplace:\n\u001b[0;32m   4552\u001b[0m     \u001b[38;5;28mself\u001b[39m\u001b[38;5;241m.\u001b[39m_update_inplace(obj)\n",
      "File \u001b[1;32m~\\anaconda3\\Lib\\site-packages\\pandas\\core\\generic.py:4591\u001b[0m, in \u001b[0;36mNDFrame._drop_axis\u001b[1;34m(self, labels, axis, level, errors, only_slice)\u001b[0m\n\u001b[0;32m   4589\u001b[0m         new_axis \u001b[38;5;241m=\u001b[39m axis\u001b[38;5;241m.\u001b[39mdrop(labels, level\u001b[38;5;241m=\u001b[39mlevel, errors\u001b[38;5;241m=\u001b[39merrors)\n\u001b[0;32m   4590\u001b[0m     \u001b[38;5;28;01melse\u001b[39;00m:\n\u001b[1;32m-> 4591\u001b[0m         new_axis \u001b[38;5;241m=\u001b[39m axis\u001b[38;5;241m.\u001b[39mdrop(labels, errors\u001b[38;5;241m=\u001b[39merrors)\n\u001b[0;32m   4592\u001b[0m     indexer \u001b[38;5;241m=\u001b[39m axis\u001b[38;5;241m.\u001b[39mget_indexer(new_axis)\n\u001b[0;32m   4594\u001b[0m \u001b[38;5;66;03m# Case for non-unique axis\u001b[39;00m\n\u001b[0;32m   4595\u001b[0m \u001b[38;5;28;01melse\u001b[39;00m:\n",
      "File \u001b[1;32m~\\anaconda3\\Lib\\site-packages\\pandas\\core\\indexes\\base.py:6699\u001b[0m, in \u001b[0;36mIndex.drop\u001b[1;34m(self, labels, errors)\u001b[0m\n\u001b[0;32m   6697\u001b[0m \u001b[38;5;28;01mif\u001b[39;00m mask\u001b[38;5;241m.\u001b[39many():\n\u001b[0;32m   6698\u001b[0m     \u001b[38;5;28;01mif\u001b[39;00m errors \u001b[38;5;241m!=\u001b[39m \u001b[38;5;124m\"\u001b[39m\u001b[38;5;124mignore\u001b[39m\u001b[38;5;124m\"\u001b[39m:\n\u001b[1;32m-> 6699\u001b[0m         \u001b[38;5;28;01mraise\u001b[39;00m \u001b[38;5;167;01mKeyError\u001b[39;00m(\u001b[38;5;124mf\u001b[39m\u001b[38;5;124m\"\u001b[39m\u001b[38;5;132;01m{\u001b[39;00m\u001b[38;5;28mlist\u001b[39m(labels[mask])\u001b[38;5;132;01m}\u001b[39;00m\u001b[38;5;124m not found in axis\u001b[39m\u001b[38;5;124m\"\u001b[39m)\n\u001b[0;32m   6700\u001b[0m     indexer \u001b[38;5;241m=\u001b[39m indexer[\u001b[38;5;241m~\u001b[39mmask]\n\u001b[0;32m   6701\u001b[0m \u001b[38;5;28;01mreturn\u001b[39;00m \u001b[38;5;28mself\u001b[39m\u001b[38;5;241m.\u001b[39mdelete(indexer)\n",
      "\u001b[1;31mKeyError\u001b[0m: \"['loan_repaid'] not found in axis\""
     ]
    }
   ],
   "source": [
    "import random\n",
    "random.seed(101)\n",
    "random_ind=random.randint(0,len(df))\n",
    "\n",
    "new_customer=df.drop('loan_repaid',axis=1).iloc[random_ind]\n",
    "new_customer"
   ]
  },
  {
   "cell_type": "code",
   "execution_count": null,
   "id": "0f35a8ff",
   "metadata": {},
   "outputs": [],
   "source": []
  },
  {
   "cell_type": "code",
   "execution_count": null,
   "id": "c0b18076",
   "metadata": {},
   "outputs": [],
   "source": []
  },
  {
   "cell_type": "code",
   "execution_count": 96,
   "id": "ad7dcbff",
   "metadata": {},
   "outputs": [],
   "source": [
    "# TASK: Now check, did thisperson actually end up payingback their loan?"
   ]
  },
  {
   "cell_type": "code",
   "execution_count": null,
   "id": "0b1eb97c",
   "metadata": {},
   "outputs": [],
   "source": []
  },
  {
   "cell_type": "code",
   "execution_count": 97,
   "id": "e920df8a",
   "metadata": {},
   "outputs": [],
   "source": [
    "# GREAT JOB!"
   ]
  },
  {
   "cell_type": "code",
   "execution_count": null,
   "id": "09c2f6e5",
   "metadata": {},
   "outputs": [],
   "source": []
  }
 ],
 "metadata": {
  "kernelspec": {
   "display_name": "Python 3 (ipykernel)",
   "language": "python",
   "name": "python3"
  },
  "language_info": {
   "codemirror_mode": {
    "name": "ipython",
    "version": 3
   },
   "file_extension": ".py",
   "mimetype": "text/x-python",
   "name": "python",
   "nbconvert_exporter": "python",
   "pygments_lexer": "ipython3",
   "version": "3.11.5"
  }
 },
 "nbformat": 4,
 "nbformat_minor": 5
}
