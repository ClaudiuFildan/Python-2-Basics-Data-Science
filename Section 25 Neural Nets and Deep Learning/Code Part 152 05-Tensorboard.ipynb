{
 "cells": [
  {
   "cell_type": "markdown",
   "metadata": {},
   "source": [
    "<a href=\"https://www.pieriandata.com\"><img src=\"../Pierian_Data_Logo.PNG\"></a>\n",
    "<strong><center>Copyright by Pierian Data Inc.</center></strong> \n",
    "<strong><center>Created by Jose Marcial Portilla.</center></strong>"
   ]
  },
  {
   "cell_type": "markdown",
   "metadata": {},
   "source": [
    "# Tensorboard\n",
    "\n",
    "---\n",
    "---\n",
    "\n",
    "**NOTE: You must watch the corresponding video to understand this lecture. This notebook can't serve as a full guide. Please watch the video BEFORE posting questions to the QA forum.**\n",
    "\n",
    "---\n",
    "---\n",
    "\n",
    "Let's explore the built in data visualization capabilities that come with Tensorboard.\n",
    "\n",
    "Full official tutorial available here: https://www.tensorflow.org/tensorboard/get_started\n",
    "\n",
    "## Data"
   ]
  },
  {
   "cell_type": "code",
   "execution_count": 1,
   "metadata": {},
   "outputs": [],
   "source": [
    "# pip install tensorflow"
   ]
  },
  {
   "cell_type": "code",
   "execution_count": 1,
   "metadata": {},
   "outputs": [],
   "source": [
    "import pandas as pd\n",
    "import numpy as np"
   ]
  },
  {
   "cell_type": "code",
   "execution_count": 4,
   "metadata": {},
   "outputs": [],
   "source": [
    "df = pd.read_csv('cancer_classification.csv')"
   ]
  },
  {
   "cell_type": "markdown",
   "metadata": {},
   "source": [
    "### Train Test Split"
   ]
  },
  {
   "cell_type": "code",
   "execution_count": 5,
   "metadata": {},
   "outputs": [],
   "source": [
    "X = df.drop('benign_0__mal_1',axis=1).values\n",
    "y = df['benign_0__mal_1'].values"
   ]
  },
  {
   "cell_type": "code",
   "execution_count": 6,
   "metadata": {},
   "outputs": [],
   "source": [
    "from sklearn.model_selection import train_test_split"
   ]
  },
  {
   "cell_type": "code",
   "execution_count": 7,
   "metadata": {},
   "outputs": [],
   "source": [
    "X_train, X_test, y_train, y_test = train_test_split(X,y,test_size=0.25,random_state=101)"
   ]
  },
  {
   "cell_type": "markdown",
   "metadata": {},
   "source": [
    "\n",
    "### Scaling Data"
   ]
  },
  {
   "cell_type": "code",
   "execution_count": 8,
   "metadata": {},
   "outputs": [],
   "source": [
    "from sklearn.preprocessing import MinMaxScaler"
   ]
  },
  {
   "cell_type": "code",
   "execution_count": 9,
   "metadata": {},
   "outputs": [],
   "source": [
    "scaler = MinMaxScaler()"
   ]
  },
  {
   "cell_type": "code",
   "execution_count": 10,
   "metadata": {},
   "outputs": [
    {
     "data": {
      "text/html": [
       "<style>#sk-container-id-1 {color: black;}#sk-container-id-1 pre{padding: 0;}#sk-container-id-1 div.sk-toggleable {background-color: white;}#sk-container-id-1 label.sk-toggleable__label {cursor: pointer;display: block;width: 100%;margin-bottom: 0;padding: 0.3em;box-sizing: border-box;text-align: center;}#sk-container-id-1 label.sk-toggleable__label-arrow:before {content: \"▸\";float: left;margin-right: 0.25em;color: #696969;}#sk-container-id-1 label.sk-toggleable__label-arrow:hover:before {color: black;}#sk-container-id-1 div.sk-estimator:hover label.sk-toggleable__label-arrow:before {color: black;}#sk-container-id-1 div.sk-toggleable__content {max-height: 0;max-width: 0;overflow: hidden;text-align: left;background-color: #f0f8ff;}#sk-container-id-1 div.sk-toggleable__content pre {margin: 0.2em;color: black;border-radius: 0.25em;background-color: #f0f8ff;}#sk-container-id-1 input.sk-toggleable__control:checked~div.sk-toggleable__content {max-height: 200px;max-width: 100%;overflow: auto;}#sk-container-id-1 input.sk-toggleable__control:checked~label.sk-toggleable__label-arrow:before {content: \"▾\";}#sk-container-id-1 div.sk-estimator input.sk-toggleable__control:checked~label.sk-toggleable__label {background-color: #d4ebff;}#sk-container-id-1 div.sk-label input.sk-toggleable__control:checked~label.sk-toggleable__label {background-color: #d4ebff;}#sk-container-id-1 input.sk-hidden--visually {border: 0;clip: rect(1px 1px 1px 1px);clip: rect(1px, 1px, 1px, 1px);height: 1px;margin: -1px;overflow: hidden;padding: 0;position: absolute;width: 1px;}#sk-container-id-1 div.sk-estimator {font-family: monospace;background-color: #f0f8ff;border: 1px dotted black;border-radius: 0.25em;box-sizing: border-box;margin-bottom: 0.5em;}#sk-container-id-1 div.sk-estimator:hover {background-color: #d4ebff;}#sk-container-id-1 div.sk-parallel-item::after {content: \"\";width: 100%;border-bottom: 1px solid gray;flex-grow: 1;}#sk-container-id-1 div.sk-label:hover label.sk-toggleable__label {background-color: #d4ebff;}#sk-container-id-1 div.sk-serial::before {content: \"\";position: absolute;border-left: 1px solid gray;box-sizing: border-box;top: 0;bottom: 0;left: 50%;z-index: 0;}#sk-container-id-1 div.sk-serial {display: flex;flex-direction: column;align-items: center;background-color: white;padding-right: 0.2em;padding-left: 0.2em;position: relative;}#sk-container-id-1 div.sk-item {position: relative;z-index: 1;}#sk-container-id-1 div.sk-parallel {display: flex;align-items: stretch;justify-content: center;background-color: white;position: relative;}#sk-container-id-1 div.sk-item::before, #sk-container-id-1 div.sk-parallel-item::before {content: \"\";position: absolute;border-left: 1px solid gray;box-sizing: border-box;top: 0;bottom: 0;left: 50%;z-index: -1;}#sk-container-id-1 div.sk-parallel-item {display: flex;flex-direction: column;z-index: 1;position: relative;background-color: white;}#sk-container-id-1 div.sk-parallel-item:first-child::after {align-self: flex-end;width: 50%;}#sk-container-id-1 div.sk-parallel-item:last-child::after {align-self: flex-start;width: 50%;}#sk-container-id-1 div.sk-parallel-item:only-child::after {width: 0;}#sk-container-id-1 div.sk-dashed-wrapped {border: 1px dashed gray;margin: 0 0.4em 0.5em 0.4em;box-sizing: border-box;padding-bottom: 0.4em;background-color: white;}#sk-container-id-1 div.sk-label label {font-family: monospace;font-weight: bold;display: inline-block;line-height: 1.2em;}#sk-container-id-1 div.sk-label-container {text-align: center;}#sk-container-id-1 div.sk-container {/* jupyter's `normalize.less` sets `[hidden] { display: none; }` but bootstrap.min.css set `[hidden] { display: none !important; }` so we also need the `!important` here to be able to override the default hidden behavior on the sphinx rendered scikit-learn.org. See: https://github.com/scikit-learn/scikit-learn/issues/21755 */display: inline-block !important;position: relative;}#sk-container-id-1 div.sk-text-repr-fallback {display: none;}</style><div id=\"sk-container-id-1\" class=\"sk-top-container\"><div class=\"sk-text-repr-fallback\"><pre>MinMaxScaler()</pre><b>In a Jupyter environment, please rerun this cell to show the HTML representation or trust the notebook. <br />On GitHub, the HTML representation is unable to render, please try loading this page with nbviewer.org.</b></div><div class=\"sk-container\" hidden><div class=\"sk-item\"><div class=\"sk-estimator sk-toggleable\"><input class=\"sk-toggleable__control sk-hidden--visually\" id=\"sk-estimator-id-1\" type=\"checkbox\" checked><label for=\"sk-estimator-id-1\" class=\"sk-toggleable__label sk-toggleable__label-arrow\">MinMaxScaler</label><div class=\"sk-toggleable__content\"><pre>MinMaxScaler()</pre></div></div></div></div></div>"
      ],
      "text/plain": [
       "MinMaxScaler()"
      ]
     },
     "execution_count": 10,
     "metadata": {},
     "output_type": "execute_result"
    }
   ],
   "source": [
    "scaler.fit(X_train)"
   ]
  },
  {
   "cell_type": "code",
   "execution_count": 11,
   "metadata": {},
   "outputs": [],
   "source": [
    "X_train = scaler.transform(X_train)\n",
    "X_test = scaler.transform(X_test)"
   ]
  },
  {
   "cell_type": "markdown",
   "metadata": {},
   "source": [
    "## Creating the Model"
   ]
  },
  {
   "cell_type": "code",
   "execution_count": 12,
   "metadata": {},
   "outputs": [
    {
     "name": "stdout",
     "output_type": "stream",
     "text": [
      "WARNING:tensorflow:From C:\\Users\\filda\\anaconda3\\Lib\\site-packages\\keras\\src\\losses.py:2976: The name tf.losses.sparse_softmax_cross_entropy is deprecated. Please use tf.compat.v1.losses.sparse_softmax_cross_entropy instead.\n",
      "\n"
     ]
    }
   ],
   "source": [
    "import tensorflow as tf\n",
    "from tensorflow.keras.models import Sequential\n",
    "from tensorflow.keras.layers import Dense, Activation,Dropout"
   ]
  },
  {
   "cell_type": "code",
   "execution_count": 13,
   "metadata": {},
   "outputs": [],
   "source": [
    "from tensorflow.keras.callbacks import EarlyStopping,TensorBoard"
   ]
  },
  {
   "cell_type": "code",
   "execution_count": 14,
   "metadata": {},
   "outputs": [],
   "source": [
    "early_stop = EarlyStopping(monitor='val_loss', mode='min', verbose=1, patience=25)"
   ]
  },
  {
   "cell_type": "code",
   "execution_count": 15,
   "metadata": {},
   "outputs": [
    {
     "data": {
      "text/plain": [
       "'C:\\\\Users\\\\filda\\\\Desktop\\\\Udemy Course 3\\\\Section 25'"
      ]
     },
     "execution_count": 15,
     "metadata": {},
     "output_type": "execute_result"
    }
   ],
   "source": [
    "pwd"
   ]
  },
  {
   "cell_type": "markdown",
   "metadata": {},
   "source": [
    "## Creating the Tensorboard Callback\n",
    "\n",
    "TensorBoard is a visualization tool provided with TensorFlow.\n",
    "\n",
    "This callback logs events for TensorBoard, including:\n",
    "* Metrics summary plots\n",
    "* Training graph visualization\n",
    "* Activation histograms\n",
    "* Sampled profiling\n",
    "\n",
    "If you have installed TensorFlow with pip, you should be able\n",
    "to launch TensorBoard from the command line:\n",
    "\n",
    "```sh\n",
    "tensorboard --logdir=path_to_your_logs\n",
    "```\n",
    "\n",
    "You can find more information about TensorBoard\n",
    "[here](https://www.tensorflow.org/tensorboard/).\n",
    "\n",
    "    Arguments:\n",
    "        log_dir: the path of the directory where to save the log files to be\n",
    "          parsed by TensorBoard.\n",
    "        histogram_freq: frequency (in epochs) at which to compute activation and\n",
    "          weight histograms for the layers of the model. If set to 0, histograms\n",
    "          won't be computed. Validation data (or split) must be specified for\n",
    "          histogram visualizations.\n",
    "        write_graph: whether to visualize the graph in TensorBoard. The log file\n",
    "          can become quite large when write_graph is set to True.\n",
    "        write_images: whether to write model weights to visualize as image in\n",
    "          TensorBoard.\n",
    "        update_freq: `'batch'` or `'epoch'` or integer. When using `'batch'`,\n",
    "          writes the losses and metrics to TensorBoard after each batch. The same\n",
    "          applies for `'epoch'`. If using an integer, let's say `1000`, the\n",
    "          callback will write the metrics and losses to TensorBoard every 1000\n",
    "          samples. Note that writing too frequently to TensorBoard can slow down\n",
    "          your training.\n",
    "        profile_batch: Profile the batch to sample compute characteristics. By\n",
    "          default, it will profile the second batch. Set profile_batch=0 to\n",
    "          disable profiling. Must run in TensorFlow eager mode.\n",
    "        embeddings_freq: frequency (in epochs) at which embedding layers will\n",
    "          be visualized. If set to 0, embeddings won't be visualized.\n",
    "       "
   ]
  },
  {
   "cell_type": "code",
   "execution_count": 16,
   "metadata": {},
   "outputs": [],
   "source": [
    "from datetime import datetime"
   ]
  },
  {
   "cell_type": "code",
   "execution_count": 19,
   "metadata": {},
   "outputs": [
    {
     "data": {
      "text/plain": [
       "'2024-02-21--2001'"
      ]
     },
     "execution_count": 19,
     "metadata": {},
     "output_type": "execute_result"
    }
   ],
   "source": [
    "datetime.now().strftime(\"%Y-%m-%d--%H%M\")"
   ]
  },
  {
   "cell_type": "code",
   "execution_count": 21,
   "metadata": {},
   "outputs": [],
   "source": [
    "# WINDOWS: Use \"logs\\\\fit\"\n",
    "# MACOS/LINUX: Use \"logs\\fit\"\n",
    "\n",
    "log_directory = 'logs\\\\fit'\n",
    "\n",
    "# OPTIONAL: ADD A TIMESTAMP FOR UNIQUE FOLDER\n",
    "# timestamp = datetime.now().strftime(\"%Y-%m-%d--%H%M\")\n",
    "# log_directory = log_directory + '\\\\' + timestamp\n",
    "\n",
    "\n",
    "board = TensorBoard(log_dir=log_directory,histogram_freq=1,\n",
    "    write_graph=True,\n",
    "    write_images=True,\n",
    "    update_freq='epoch',\n",
    "    profile_batch=2,\n",
    "    embeddings_freq=1)"
   ]
  },
  {
   "cell_type": "markdown",
   "metadata": {},
   "source": [
    "Now create the model layers:"
   ]
  },
  {
   "cell_type": "code",
   "execution_count": 22,
   "metadata": {},
   "outputs": [
    {
     "name": "stdout",
     "output_type": "stream",
     "text": [
      "WARNING:tensorflow:From C:\\Users\\filda\\anaconda3\\Lib\\site-packages\\keras\\src\\backend.py:873: The name tf.get_default_graph is deprecated. Please use tf.compat.v1.get_default_graph instead.\n",
      "\n",
      "WARNING:tensorflow:From C:\\Users\\filda\\anaconda3\\Lib\\site-packages\\keras\\src\\optimizers\\__init__.py:309: The name tf.train.Optimizer is deprecated. Please use tf.compat.v1.train.Optimizer instead.\n",
      "\n"
     ]
    }
   ],
   "source": [
    "model = Sequential()\n",
    "model.add(Dense(units=30,activation='relu'))\n",
    "model.add(Dropout(0.5))\n",
    "model.add(Dense(units=15,activation='relu'))\n",
    "model.add(Dropout(0.5))\n",
    "model.add(Dense(units=1,activation='sigmoid'))\n",
    "model.compile(loss='binary_crossentropy', optimizer='adam')"
   ]
  },
  {
   "cell_type": "markdown",
   "metadata": {},
   "source": [
    "## Train the Model"
   ]
  },
  {
   "cell_type": "code",
   "execution_count": 23,
   "metadata": {},
   "outputs": [
    {
     "name": "stdout",
     "output_type": "stream",
     "text": [
      "Epoch 1/600\n",
      "WARNING:tensorflow:From C:\\Users\\filda\\anaconda3\\Lib\\site-packages\\keras\\src\\utils\\tf_utils.py:492: The name tf.ragged.RaggedTensorValue is deprecated. Please use tf.compat.v1.ragged.RaggedTensorValue instead.\n",
      "\n",
      "14/14 [==============================] - 3s 83ms/step - loss: 0.7007 - val_loss: 0.6898\n",
      "Epoch 2/600\n",
      "14/14 [==============================] - 0s 29ms/step - loss: 0.6801 - val_loss: 0.6775\n",
      "Epoch 3/600\n",
      "14/14 [==============================] - 0s 26ms/step - loss: 0.6829 - val_loss: 0.6641\n",
      "Epoch 4/600\n",
      "14/14 [==============================] - 0s 18ms/step - loss: 0.6663 - val_loss: 0.6507\n",
      "Epoch 5/600\n",
      "14/14 [==============================] - 0s 19ms/step - loss: 0.6531 - val_loss: 0.6360\n",
      "Epoch 6/600\n",
      "14/14 [==============================] - 0s 17ms/step - loss: 0.6362 - val_loss: 0.6124\n",
      "Epoch 7/600\n",
      "14/14 [==============================] - 0s 16ms/step - loss: 0.6208 - val_loss: 0.5866\n",
      "Epoch 8/600\n",
      "14/14 [==============================] - 0s 19ms/step - loss: 0.6061 - val_loss: 0.5611\n",
      "Epoch 9/600\n",
      "14/14 [==============================] - 0s 27ms/step - loss: 0.5755 - val_loss: 0.5255\n",
      "Epoch 10/600\n",
      "14/14 [==============================] - 0s 37ms/step - loss: 0.5495 - val_loss: 0.4917\n",
      "Epoch 11/600\n",
      "14/14 [==============================] - 0s 20ms/step - loss: 0.5239 - val_loss: 0.4566\n",
      "Epoch 12/600\n",
      "14/14 [==============================] - 0s 20ms/step - loss: 0.4844 - val_loss: 0.4196\n",
      "Epoch 13/600\n",
      "14/14 [==============================] - 0s 20ms/step - loss: 0.4439 - val_loss: 0.3859\n",
      "Epoch 14/600\n",
      "14/14 [==============================] - 0s 20ms/step - loss: 0.4500 - val_loss: 0.3599\n",
      "Epoch 15/600\n",
      "14/14 [==============================] - 0s 19ms/step - loss: 0.4035 - val_loss: 0.3340\n",
      "Epoch 16/600\n",
      "14/14 [==============================] - 0s 20ms/step - loss: 0.4218 - val_loss: 0.3151\n",
      "Epoch 17/600\n",
      "14/14 [==============================] - 0s 30ms/step - loss: 0.3767 - val_loss: 0.2977\n",
      "Epoch 18/600\n",
      "14/14 [==============================] - 0s 22ms/step - loss: 0.3799 - val_loss: 0.2763\n",
      "Epoch 19/600\n",
      "14/14 [==============================] - 0s 28ms/step - loss: 0.3530 - val_loss: 0.2596\n",
      "Epoch 20/600\n",
      "14/14 [==============================] - 0s 21ms/step - loss: 0.3515 - val_loss: 0.2464\n",
      "Epoch 21/600\n",
      "14/14 [==============================] - 0s 22ms/step - loss: 0.3390 - val_loss: 0.2306\n",
      "Epoch 22/600\n",
      "14/14 [==============================] - 0s 25ms/step - loss: 0.3216 - val_loss: 0.2200\n",
      "Epoch 23/600\n",
      "14/14 [==============================] - 0s 23ms/step - loss: 0.3165 - val_loss: 0.2156\n",
      "Epoch 24/600\n",
      "14/14 [==============================] - 0s 19ms/step - loss: 0.3294 - val_loss: 0.2102\n",
      "Epoch 25/600\n",
      "14/14 [==============================] - 0s 23ms/step - loss: 0.3244 - val_loss: 0.2074\n",
      "Epoch 26/600\n",
      "14/14 [==============================] - 0s 18ms/step - loss: 0.2804 - val_loss: 0.2023\n",
      "Epoch 27/600\n",
      "14/14 [==============================] - 0s 21ms/step - loss: 0.3055 - val_loss: 0.1881\n",
      "Epoch 28/600\n",
      "14/14 [==============================] - 0s 18ms/step - loss: 0.3024 - val_loss: 0.1815\n",
      "Epoch 29/600\n",
      "14/14 [==============================] - 0s 17ms/step - loss: 0.2885 - val_loss: 0.1806\n",
      "Epoch 30/600\n",
      "14/14 [==============================] - 0s 17ms/step - loss: 0.2553 - val_loss: 0.1684\n",
      "Epoch 31/600\n",
      "14/14 [==============================] - 0s 15ms/step - loss: 0.2309 - val_loss: 0.1635\n",
      "Epoch 32/600\n",
      "14/14 [==============================] - 0s 17ms/step - loss: 0.2744 - val_loss: 0.1593\n",
      "Epoch 33/600\n",
      "14/14 [==============================] - 0s 16ms/step - loss: 0.2318 - val_loss: 0.1581\n",
      "Epoch 34/600\n",
      "14/14 [==============================] - 0s 18ms/step - loss: 0.2466 - val_loss: 0.1615\n",
      "Epoch 35/600\n",
      "14/14 [==============================] - 0s 18ms/step - loss: 0.2640 - val_loss: 0.1489\n",
      "Epoch 36/600\n",
      "14/14 [==============================] - 0s 19ms/step - loss: 0.2401 - val_loss: 0.1520\n",
      "Epoch 37/600\n",
      "14/14 [==============================] - 0s 22ms/step - loss: 0.2565 - val_loss: 0.1474\n",
      "Epoch 38/600\n",
      "14/14 [==============================] - 0s 21ms/step - loss: 0.2538 - val_loss: 0.1464\n",
      "Epoch 39/600\n",
      "14/14 [==============================] - 0s 29ms/step - loss: 0.2252 - val_loss: 0.1436\n",
      "Epoch 40/600\n",
      "14/14 [==============================] - 0s 20ms/step - loss: 0.2042 - val_loss: 0.1355\n",
      "Epoch 41/600\n",
      "14/14 [==============================] - 0s 24ms/step - loss: 0.2231 - val_loss: 0.1336\n",
      "Epoch 42/600\n",
      "14/14 [==============================] - 0s 29ms/step - loss: 0.2303 - val_loss: 0.1412\n",
      "Epoch 43/600\n",
      "14/14 [==============================] - 0s 22ms/step - loss: 0.2007 - val_loss: 0.1315\n",
      "Epoch 44/600\n",
      "14/14 [==============================] - 0s 31ms/step - loss: 0.1998 - val_loss: 0.1283\n",
      "Epoch 45/600\n",
      "14/14 [==============================] - 0s 22ms/step - loss: 0.2186 - val_loss: 0.1316\n",
      "Epoch 46/600\n",
      "14/14 [==============================] - 0s 24ms/step - loss: 0.1873 - val_loss: 0.1228\n",
      "Epoch 47/600\n",
      "14/14 [==============================] - 0s 30ms/step - loss: 0.1898 - val_loss: 0.1244\n",
      "Epoch 48/600\n",
      "14/14 [==============================] - 0s 24ms/step - loss: 0.1945 - val_loss: 0.1346\n",
      "Epoch 49/600\n",
      "14/14 [==============================] - 0s 23ms/step - loss: 0.1884 - val_loss: 0.1277\n",
      "Epoch 50/600\n",
      "14/14 [==============================] - 0s 23ms/step - loss: 0.1801 - val_loss: 0.1186\n",
      "Epoch 51/600\n",
      "14/14 [==============================] - 1s 44ms/step - loss: 0.1853 - val_loss: 0.1262\n",
      "Epoch 52/600\n",
      "14/14 [==============================] - 1s 40ms/step - loss: 0.1541 - val_loss: 0.1153\n",
      "Epoch 53/600\n",
      "14/14 [==============================] - 0s 32ms/step - loss: 0.1860 - val_loss: 0.1136\n",
      "Epoch 54/600\n",
      "14/14 [==============================] - 0s 25ms/step - loss: 0.1727 - val_loss: 0.1215\n",
      "Epoch 55/600\n",
      "14/14 [==============================] - 0s 25ms/step - loss: 0.1675 - val_loss: 0.1133\n",
      "Epoch 56/600\n",
      "14/14 [==============================] - 0s 33ms/step - loss: 0.1616 - val_loss: 0.1134\n",
      "Epoch 57/600\n",
      "14/14 [==============================] - 0s 28ms/step - loss: 0.1425 - val_loss: 0.1120\n",
      "Epoch 58/600\n",
      "14/14 [==============================] - 0s 17ms/step - loss: 0.1713 - val_loss: 0.1132\n",
      "Epoch 59/600\n",
      "14/14 [==============================] - 0s 18ms/step - loss: 0.1566 - val_loss: 0.1137\n",
      "Epoch 60/600\n",
      "14/14 [==============================] - 0s 22ms/step - loss: 0.1705 - val_loss: 0.1124\n",
      "Epoch 61/600\n",
      "14/14 [==============================] - 0s 38ms/step - loss: 0.1655 - val_loss: 0.1189\n",
      "Epoch 62/600\n",
      "14/14 [==============================] - 0s 20ms/step - loss: 0.1706 - val_loss: 0.1108\n",
      "Epoch 63/600\n",
      "14/14 [==============================] - 0s 21ms/step - loss: 0.1356 - val_loss: 0.1108\n",
      "Epoch 64/600\n",
      "14/14 [==============================] - 0s 21ms/step - loss: 0.1496 - val_loss: 0.1117\n",
      "Epoch 65/600\n",
      "14/14 [==============================] - 0s 30ms/step - loss: 0.1338 - val_loss: 0.1187\n",
      "Epoch 66/600\n",
      "14/14 [==============================] - 0s 21ms/step - loss: 0.1241 - val_loss: 0.1063\n",
      "Epoch 67/600\n",
      "14/14 [==============================] - 0s 26ms/step - loss: 0.1387 - val_loss: 0.1055\n",
      "Epoch 68/600\n",
      "14/14 [==============================] - 0s 27ms/step - loss: 0.1483 - val_loss: 0.1091\n",
      "Epoch 69/600\n",
      "14/14 [==============================] - 0s 24ms/step - loss: 0.1223 - val_loss: 0.1061\n",
      "Epoch 70/600\n",
      "14/14 [==============================] - 0s 22ms/step - loss: 0.1231 - val_loss: 0.1093\n",
      "Epoch 71/600\n",
      "14/14 [==============================] - 0s 22ms/step - loss: 0.1105 - val_loss: 0.1043\n",
      "Epoch 72/600\n",
      "14/14 [==============================] - 0s 23ms/step - loss: 0.1240 - val_loss: 0.1148\n",
      "Epoch 73/600\n",
      "14/14 [==============================] - 0s 25ms/step - loss: 0.1223 - val_loss: 0.1026\n",
      "Epoch 74/600\n",
      "14/14 [==============================] - 0s 22ms/step - loss: 0.1190 - val_loss: 0.1025\n",
      "Epoch 75/600\n",
      "14/14 [==============================] - 0s 20ms/step - loss: 0.1379 - val_loss: 0.1112\n",
      "Epoch 76/600\n",
      "14/14 [==============================] - 0s 24ms/step - loss: 0.1351 - val_loss: 0.1090\n",
      "Epoch 77/600\n",
      "14/14 [==============================] - 0s 21ms/step - loss: 0.1173 - val_loss: 0.1115\n",
      "Epoch 78/600\n",
      "14/14 [==============================] - 0s 21ms/step - loss: 0.1393 - val_loss: 0.1076\n",
      "Epoch 79/600\n",
      "14/14 [==============================] - 0s 18ms/step - loss: 0.1315 - val_loss: 0.1202\n",
      "Epoch 80/600\n"
     ]
    },
    {
     "name": "stdout",
     "output_type": "stream",
     "text": [
      "14/14 [==============================] - 0s 22ms/step - loss: 0.1187 - val_loss: 0.1055\n",
      "Epoch 81/600\n",
      "14/14 [==============================] - 0s 20ms/step - loss: 0.1192 - val_loss: 0.1174\n",
      "Epoch 82/600\n",
      "14/14 [==============================] - 0s 21ms/step - loss: 0.1032 - val_loss: 0.1066\n",
      "Epoch 83/600\n",
      "14/14 [==============================] - 0s 22ms/step - loss: 0.1240 - val_loss: 0.1057\n",
      "Epoch 84/600\n",
      "14/14 [==============================] - 0s 19ms/step - loss: 0.1086 - val_loss: 0.1094\n",
      "Epoch 85/600\n",
      "14/14 [==============================] - 0s 21ms/step - loss: 0.1247 - val_loss: 0.1071\n",
      "Epoch 86/600\n",
      "14/14 [==============================] - 0s 22ms/step - loss: 0.1071 - val_loss: 0.1091\n",
      "Epoch 87/600\n",
      "14/14 [==============================] - 0s 32ms/step - loss: 0.1187 - val_loss: 0.1201\n",
      "Epoch 88/600\n",
      "14/14 [==============================] - 0s 20ms/step - loss: 0.1106 - val_loss: 0.1053\n",
      "Epoch 89/600\n",
      "14/14 [==============================] - 0s 23ms/step - loss: 0.1142 - val_loss: 0.1133\n",
      "Epoch 90/600\n",
      "14/14 [==============================] - 0s 23ms/step - loss: 0.1142 - val_loss: 0.1186\n",
      "Epoch 91/600\n",
      "14/14 [==============================] - 0s 23ms/step - loss: 0.1157 - val_loss: 0.1062\n",
      "Epoch 92/600\n",
      "14/14 [==============================] - 0s 30ms/step - loss: 0.1155 - val_loss: 0.1083\n",
      "Epoch 93/600\n",
      "14/14 [==============================] - 0s 27ms/step - loss: 0.1211 - val_loss: 0.1112\n",
      "Epoch 94/600\n",
      "14/14 [==============================] - 0s 29ms/step - loss: 0.0992 - val_loss: 0.1068\n",
      "Epoch 95/600\n",
      "14/14 [==============================] - 0s 24ms/step - loss: 0.1109 - val_loss: 0.1072\n",
      "Epoch 96/600\n",
      "14/14 [==============================] - 0s 25ms/step - loss: 0.1212 - val_loss: 0.1041\n",
      "Epoch 97/600\n",
      "14/14 [==============================] - 0s 24ms/step - loss: 0.1024 - val_loss: 0.1174\n",
      "Epoch 98/600\n",
      "14/14 [==============================] - 1s 40ms/step - loss: 0.1162 - val_loss: 0.1165\n",
      "Epoch 99/600\n",
      "14/14 [==============================] - 0s 32ms/step - loss: 0.1012 - val_loss: 0.1090\n",
      "Epoch 99: early stopping\n"
     ]
    },
    {
     "data": {
      "text/plain": [
       "<keras.src.callbacks.History at 0x28931747a10>"
      ]
     },
     "execution_count": 23,
     "metadata": {},
     "output_type": "execute_result"
    }
   ],
   "source": [
    "model.fit(x=X_train, \n",
    "          y=y_train, \n",
    "          epochs=600,\n",
    "          validation_data=(X_test, y_test), verbose=1,\n",
    "          callbacks=[early_stop,board]\n",
    "          )"
   ]
  },
  {
   "cell_type": "markdown",
   "metadata": {},
   "source": [
    "# Running Tensorboard\n"
   ]
  },
  {
   "cell_type": "markdown",
   "metadata": {},
   "source": [
    "## Running through the Command Line\n",
    "\n",
    "**Watch video to see how to run Tensorboard through a command line call.**"
   ]
  },
  {
   "cell_type": "markdown",
   "metadata": {},
   "source": [
    "Tensorboard will run locally in your browser at [http://localhost:6006/](http://localhost:6006/)\n"
   ]
  },
  {
   "cell_type": "code",
   "execution_count": 24,
   "metadata": {},
   "outputs": [
    {
     "name": "stdout",
     "output_type": "stream",
     "text": [
      "logs\\fit\n"
     ]
    }
   ],
   "source": [
    "print(log_directory)"
   ]
  },
  {
   "cell_type": "code",
   "execution_count": 25,
   "metadata": {},
   "outputs": [
    {
     "data": {
      "text/plain": [
       "'C:\\\\Users\\\\filda\\\\Desktop\\\\Udemy Course 3\\\\Section 25'"
      ]
     },
     "execution_count": 25,
     "metadata": {},
     "output_type": "execute_result"
    }
   ],
   "source": [
    "pwd"
   ]
  },
  {
   "cell_type": "markdown",
   "metadata": {},
   "source": [
    "### Use cd at your command line to change directory to the file path reported back by pwd or your current .py file location.\n",
    "### Then run this code at your command line or terminal"
   ]
  },
  {
   "cell_type": "code",
   "execution_count": null,
   "metadata": {},
   "outputs": [],
   "source": [
    "tensorboard --logdir logs\\fit "
   ]
  }
 ],
 "metadata": {
  "kernelspec": {
   "display_name": "Python 3 (ipykernel)",
   "language": "python",
   "name": "python3"
  },
  "language_info": {
   "codemirror_mode": {
    "name": "ipython",
    "version": 3
   },
   "file_extension": ".py",
   "mimetype": "text/x-python",
   "name": "python",
   "nbconvert_exporter": "python",
   "pygments_lexer": "ipython3",
   "version": "3.11.5"
  }
 },
 "nbformat": 4,
 "nbformat_minor": 2
}
