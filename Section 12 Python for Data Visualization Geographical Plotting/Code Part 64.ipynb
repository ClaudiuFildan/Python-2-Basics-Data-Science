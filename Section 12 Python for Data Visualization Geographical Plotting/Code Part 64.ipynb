{
 "cells": [
  {
   "cell_type": "code",
   "execution_count": null,
   "id": "3fcab674",
   "metadata": {},
   "outputs": [],
   "source": []
  },
  {
   "cell_type": "code",
   "execution_count": 12,
   "id": "d18f9402",
   "metadata": {},
   "outputs": [],
   "source": [
    "import pandas as pd"
   ]
  },
  {
   "cell_type": "code",
   "execution_count": 13,
   "id": "de83e83f",
   "metadata": {},
   "outputs": [],
   "source": [
    "import plotly.graph_objects as go"
   ]
  },
  {
   "cell_type": "code",
   "execution_count": 4,
   "id": "1bae855c",
   "metadata": {},
   "outputs": [],
   "source": [
    "df=pd.read_csv('2014_world_GdP')"
   ]
  },
  {
   "cell_type": "code",
   "execution_count": 5,
   "id": "228c14fe",
   "metadata": {},
   "outputs": [
    {
     "data": {
      "text/html": [
       "<div>\n",
       "<style scoped>\n",
       "    .dataframe tbody tr th:only-of-type {\n",
       "        vertical-align: middle;\n",
       "    }\n",
       "\n",
       "    .dataframe tbody tr th {\n",
       "        vertical-align: top;\n",
       "    }\n",
       "\n",
       "    .dataframe thead th {\n",
       "        text-align: right;\n",
       "    }\n",
       "</style>\n",
       "<table border=\"1\" class=\"dataframe\">\n",
       "  <thead>\n",
       "    <tr style=\"text-align: right;\">\n",
       "      <th></th>\n",
       "      <th>COUNTRY</th>\n",
       "      <th>GDP (BILLIONS)</th>\n",
       "      <th>CODE</th>\n",
       "    </tr>\n",
       "  </thead>\n",
       "  <tbody>\n",
       "    <tr>\n",
       "      <th>0</th>\n",
       "      <td>Afghanistan</td>\n",
       "      <td>21.71</td>\n",
       "      <td>AFG</td>\n",
       "    </tr>\n",
       "    <tr>\n",
       "      <th>1</th>\n",
       "      <td>Albania</td>\n",
       "      <td>13.40</td>\n",
       "      <td>ALB</td>\n",
       "    </tr>\n",
       "    <tr>\n",
       "      <th>2</th>\n",
       "      <td>Algeria</td>\n",
       "      <td>227.80</td>\n",
       "      <td>DZA</td>\n",
       "    </tr>\n",
       "    <tr>\n",
       "      <th>3</th>\n",
       "      <td>American Samoa</td>\n",
       "      <td>0.75</td>\n",
       "      <td>ASM</td>\n",
       "    </tr>\n",
       "    <tr>\n",
       "      <th>4</th>\n",
       "      <td>Andorra</td>\n",
       "      <td>4.80</td>\n",
       "      <td>AND</td>\n",
       "    </tr>\n",
       "  </tbody>\n",
       "</table>\n",
       "</div>"
      ],
      "text/plain": [
       "          COUNTRY  GDP (BILLIONS) CODE\n",
       "0     Afghanistan           21.71  AFG\n",
       "1         Albania           13.40  ALB\n",
       "2         Algeria          227.80  DZA\n",
       "3  American Samoa            0.75  ASM\n",
       "4         Andorra            4.80  AND"
      ]
     },
     "execution_count": 5,
     "metadata": {},
     "output_type": "execute_result"
    }
   ],
   "source": [
    "df.head()"
   ]
  },
  {
   "cell_type": "code",
   "execution_count": 21,
   "id": "e6c4fade",
   "metadata": {},
   "outputs": [],
   "source": [
    "data=dict(type='choropleth',\n",
    "         locations=df['CODE'],\n",
    "         z=df['GDP (BILLIONS)'],\n",
    "         text=df['COUNTRY'],\n",
    "         colorbar={'title':'GDPin Billions USD'}) "
   ]
  },
  {
   "cell_type": "code",
   "execution_count": 33,
   "id": "ab8423ef",
   "metadata": {},
   "outputs": [],
   "source": [
    "layout=dict(title='2014 Global GDP',\n",
    "           geo=dict(showframe=False,\n",
    "                   projection={'type':\"stereographic\"}))"
   ]
  },
  {
   "cell_type": "code",
   "execution_count": 34,
   "id": "f06bbaa7",
   "metadata": {},
   "outputs": [],
   "source": [
    "choromap3=go.Figure(data=[data],layout=layout)"
   ]
  },
  {
   "cell_type": "code",
   "execution_count": 35,
   "id": "6d36887a",
   "metadata": {},
   "outputs": [
    {
     "data": {
      "text/plain": [
       "'temp-plot.html'"
      ]
     },
     "execution_count": 35,
     "metadata": {},
     "output_type": "execute_result"
    }
   ],
   "source": [
    "plot(choromap3)"
   ]
  },
  {
   "cell_type": "code",
   "execution_count": null,
   "id": "7392fe7c",
   "metadata": {},
   "outputs": [],
   "source": []
  },
  {
   "cell_type": "code",
   "execution_count": 20,
   "id": "3182b04b",
   "metadata": {},
   "outputs": [
    {
     "data": {
      "text/plain": [
       "'temp-plot.html'"
      ]
     },
     "execution_count": 20,
     "metadata": {},
     "output_type": "execute_result"
    }
   ],
   "source": [
    "import pandas as pd\n",
    "import io\n",
    "import plotly.graph_objs as go \n",
    "from plotly.offline import plot\n",
    "\n",
    "txt = \"\"\"   state   abv ibu id  beer    style   ounces  brewery city\n",
    "0   AK  25  17  25  25.0    25.0    25  25  25\n",
    "1   AL  10  9   10  10.0    10.0    10  10  10\n",
    "2   AR  5   1   5   5.0 5.0 5   5   5\n",
    "3   AZ  44  24  47  47.0    46.0    47  47  47\n",
    "4   CA  182 135 183 183.0   183.0   183 183 183\n",
    "5   CO  250 146 265 265.0   263.0   265 265 265\n",
    "6   CT  27  6   27  27.0    27.0    27  27  27\n",
    "7   DC  8   4   8   8.0 8.0 8   8   8\n",
    "8   DE  1   1   2   2.0 2.0 2   2   2\n",
    "9   FL  56  37  58  58.0    58.0    58  58  58\n",
    "10  GA  16  7   16  16.0    16.0    16  16  16\n",
    "\"\"\"\n",
    "\n",
    "gb_state = pd.read_csv(io.StringIO(txt), delim_whitespace=True)\n",
    "\n",
    "\n",
    "data = dict(type='choropleth',\n",
    "            locations=gb_state['state'],\n",
    "            locationmode='USA-states',\n",
    "            text=gb_state['state'],\n",
    "            z=gb_state['beer'],\n",
    "            ) \n",
    "\n",
    "layout = dict(geo = dict(scope='usa',\n",
    "                         showlakes= False)\n",
    "             )\n",
    "\n",
    "choromap = go.Figure(data=[data], layout=layout)\n",
    "plot(choromap)"
   ]
  },
  {
   "cell_type": "code",
   "execution_count": null,
   "id": "18dc3319",
   "metadata": {},
   "outputs": [],
   "source": []
  }
 ],
 "metadata": {
  "kernelspec": {
   "display_name": "Python 3 (ipykernel)",
   "language": "python",
   "name": "python3"
  },
  "language_info": {
   "codemirror_mode": {
    "name": "ipython",
    "version": 3
   },
   "file_extension": ".py",
   "mimetype": "text/x-python",
   "name": "python",
   "nbconvert_exporter": "python",
   "pygments_lexer": "ipython3",
   "version": "3.11.5"
  }
 },
 "nbformat": 4,
 "nbformat_minor": 5
}
