{
 "cells": [
  {
   "cell_type": "code",
   "execution_count": 1,
   "id": "b546c9e7",
   "metadata": {},
   "outputs": [],
   "source": [
    "# What is 7 to the power of 4?"
   ]
  },
  {
   "cell_type": "code",
   "execution_count": 26,
   "id": "d3d9b25a",
   "metadata": {},
   "outputs": [
    {
     "data": {
      "text/plain": [
       "2401"
      ]
     },
     "execution_count": 26,
     "metadata": {},
     "output_type": "execute_result"
    }
   ],
   "source": [
    "7**4"
   ]
  },
  {
   "cell_type": "code",
   "execution_count": 27,
   "id": "e961b871",
   "metadata": {},
   "outputs": [],
   "source": [
    "# Split this string: Into a list\n",
    "s=\"Hi there Sam!\""
   ]
  },
  {
   "cell_type": "code",
   "execution_count": 28,
   "id": "e9394f1b",
   "metadata": {},
   "outputs": [
    {
     "data": {
      "text/plain": [
       "['Hi', 'there', 'Sam!']"
      ]
     },
     "execution_count": 28,
     "metadata": {},
     "output_type": "execute_result"
    }
   ],
   "source": [
    "s.split(' ')"
   ]
  },
  {
   "cell_type": "code",
   "execution_count": 7,
   "id": "bd94b442",
   "metadata": {},
   "outputs": [],
   "source": [
    "# Given the variables:"
   ]
  },
  {
   "cell_type": "code",
   "execution_count": 8,
   "id": "c36cef83",
   "metadata": {},
   "outputs": [],
   "source": [
    "planet=\"Earth\"\n",
    "diameter=12742"
   ]
  },
  {
   "cell_type": "code",
   "execution_count": 29,
   "id": "ea408d63",
   "metadata": {},
   "outputs": [],
   "source": [
    "# Use.format() to print the following string"
   ]
  },
  {
   "cell_type": "code",
   "execution_count": 31,
   "id": "b5d720cf",
   "metadata": {},
   "outputs": [
    {
     "data": {
      "text/plain": [
       "'The diameter of Earth is 12742 kilometers'"
      ]
     },
     "execution_count": 31,
     "metadata": {},
     "output_type": "execute_result"
    }
   ],
   "source": [
    "'The diameter of {} is {} kilometers'.format(planet,diameter)"
   ]
  },
  {
   "cell_type": "code",
   "execution_count": 33,
   "id": "51c98721",
   "metadata": {},
   "outputs": [],
   "source": [
    "# Given this nested list, use indexing to grab the word \"hello\""
   ]
  },
  {
   "cell_type": "code",
   "execution_count": 35,
   "id": "f4a4f621",
   "metadata": {},
   "outputs": [],
   "source": [
    "lst=[1,2,[3,4],[5,[100,200,['hello']],23,11],1,7]"
   ]
  },
  {
   "cell_type": "code",
   "execution_count": 39,
   "id": "1779c05c",
   "metadata": {},
   "outputs": [
    {
     "data": {
      "text/plain": [
       "'hello'"
      ]
     },
     "execution_count": 39,
     "metadata": {},
     "output_type": "execute_result"
    }
   ],
   "source": [
    "lst[3][1][2][0]"
   ]
  },
  {
   "cell_type": "code",
   "execution_count": 10,
   "id": "c3b6abe9",
   "metadata": {},
   "outputs": [],
   "source": [
    "# Givem this nest dictionary grab the word \"hello\". Be prepared, this will be annoying/trick"
   ]
  },
  {
   "cell_type": "code",
   "execution_count": 40,
   "id": "971d2a12",
   "metadata": {},
   "outputs": [],
   "source": [
    "d={'k1':[1,2,3,{'tricky':['oh','man','inception',{'target':[1,2,3,'hello']}]}]}"
   ]
  },
  {
   "cell_type": "code",
   "execution_count": 46,
   "id": "d6db8132",
   "metadata": {},
   "outputs": [
    {
     "data": {
      "text/plain": [
       "'hello'"
      ]
     },
     "execution_count": 46,
     "metadata": {},
     "output_type": "execute_result"
    }
   ],
   "source": [
    "d['k1'][3]['tricky'][3]['target'][3]"
   ]
  },
  {
   "cell_type": "code",
   "execution_count": 12,
   "id": "734757ab",
   "metadata": {},
   "outputs": [],
   "source": [
    "# What is the main difference between a tuple and a list?"
   ]
  },
  {
   "cell_type": "code",
   "execution_count": 47,
   "id": "23e7dba4",
   "metadata": {},
   "outputs": [],
   "source": [
    "# A TUPLE IS IMMUTABLE AND A LIST IS MUTABLE"
   ]
  },
  {
   "cell_type": "code",
   "execution_count": 50,
   "id": "996222cd",
   "metadata": {},
   "outputs": [],
   "source": [
    "# Create a function that grabs the email website domain from a string in the form:"
   ]
  },
  {
   "cell_type": "code",
   "execution_count": 55,
   "id": "d2ead9f9",
   "metadata": {},
   "outputs": [],
   "source": [
    "def domainGet(email):\n",
    "    return email.split('@')[1]"
   ]
  },
  {
   "cell_type": "code",
   "execution_count": 56,
   "id": "5afded61",
   "metadata": {},
   "outputs": [
    {
     "data": {
      "text/plain": [
       "'domain.com'"
      ]
     },
     "execution_count": 56,
     "metadata": {},
     "output_type": "execute_result"
    }
   ],
   "source": [
    "domainGet('user@domain.com')"
   ]
  },
  {
   "cell_type": "code",
   "execution_count": 57,
   "id": "35a55f72",
   "metadata": {},
   "outputs": [],
   "source": [
    "# Create a basic function that returns True if the word 'dog' is\n",
    "# contained in the input string. Don't worry about edge cases like\n",
    "# a punctuation being attached to the word dog, but do account for\n",
    "# capitalization."
   ]
  },
  {
   "cell_type": "code",
   "execution_count": 60,
   "id": "13f22908",
   "metadata": {},
   "outputs": [],
   "source": [
    "def findDog(s):\n",
    "    return 'dog' in s.lower().split()"
   ]
  },
  {
   "cell_type": "code",
   "execution_count": 61,
   "id": "6f348229",
   "metadata": {},
   "outputs": [
    {
     "data": {
      "text/plain": [
       "True"
      ]
     },
     "execution_count": 61,
     "metadata": {},
     "output_type": "execute_result"
    }
   ],
   "source": [
    "findDog('Is there a dog here?')"
   ]
  },
  {
   "cell_type": "code",
   "execution_count": 62,
   "id": "cd926a4b",
   "metadata": {},
   "outputs": [],
   "source": [
    "# Create a function that counts the number of times the word \"dog\" occurs in a sting\n",
    "# Again ignore edge cases"
   ]
  },
  {
   "cell_type": "code",
   "execution_count": 72,
   "id": "680055f2",
   "metadata": {},
   "outputs": [],
   "source": [
    "def countDog(st):\n",
    "    count=0\n",
    "    for word in st.lower().split():\n",
    "        if 'dog'==word:\n",
    "            count+=1\n",
    "    return count   "
   ]
  },
  {
   "cell_type": "code",
   "execution_count": 73,
   "id": "ec690293",
   "metadata": {},
   "outputs": [
    {
     "data": {
      "text/plain": [
       "2"
      ]
     },
     "execution_count": 73,
     "metadata": {},
     "output_type": "execute_result"
    }
   ],
   "source": [
    "countDog('This dog runs faster than the other dog dude!')"
   ]
  },
  {
   "cell_type": "code",
   "execution_count": 20,
   "id": "2922677d",
   "metadata": {},
   "outputs": [],
   "source": [
    "# Use lambda expressions and the filter() function to filter out\n",
    "# words from a list that don't start with the letter 's'. For example:\n",
    "# should be filtered down to:"
   ]
  },
  {
   "cell_type": "code",
   "execution_count": 21,
   "id": "dda252cd",
   "metadata": {},
   "outputs": [],
   "source": [
    "seq=['soup','dog','salad','cat','great']"
   ]
  },
  {
   "cell_type": "code",
   "execution_count": 76,
   "id": "1e8fc155",
   "metadata": {},
   "outputs": [
    {
     "data": {
      "text/plain": [
       "['soup', 'salad']"
      ]
     },
     "execution_count": 76,
     "metadata": {},
     "output_type": "execute_result"
    }
   ],
   "source": [
    "list(filter(lambda word:word[0]=='s',seq))"
   ]
  },
  {
   "cell_type": "code",
   "execution_count": 22,
   "id": "57f65ad0",
   "metadata": {},
   "outputs": [],
   "source": [
    "# Final Problem\n",
    "# You are driving a little too fast, and a police officer stops you. Write a function to return one\n",
    "# of 3 possible results: \"No tickets\",\"Small ticket\", or \"Big Ticket\". If your speed is 60 or less\n",
    "# the result is \"No ticket\". If speed is between 61 and 80 inclusive, the result is \"Small Ticket\".\n",
    "# If speed  is 81 or more, the result is \"Big Ticket\". Unless it is your birthday (encoded as a \n",
    "# boolean valuein the parameters of the function) -- on your birthday, your speed can be 5 higher\n",
    "# in all cases"
   ]
  },
  {
   "cell_type": "code",
   "execution_count": 81,
   "id": "3005bd20",
   "metadata": {},
   "outputs": [],
   "source": [
    "def caught_speeding(speed,is_birthday):\n",
    "    if is_birthday:\n",
    "        speeding=speed-5\n",
    "    else:\n",
    "        speeding=speed\n",
    "        \n",
    "    if speeding>80:\n",
    "        return 'Big Ticket'\n",
    "    elif speeding>60:\n",
    "        return 'Small Ticket'\n",
    "    else:\n",
    "        return 'Not Ticket'"
   ]
  },
  {
   "cell_type": "code",
   "execution_count": 82,
   "id": "9074c954",
   "metadata": {},
   "outputs": [
    {
     "data": {
      "text/plain": [
       "'Small Ticket'"
      ]
     },
     "execution_count": 82,
     "metadata": {},
     "output_type": "execute_result"
    }
   ],
   "source": [
    "caught_speeding(81,True)"
   ]
  },
  {
   "cell_type": "code",
   "execution_count": 83,
   "id": "a29d8fff",
   "metadata": {},
   "outputs": [
    {
     "data": {
      "text/plain": [
       "'Big Ticket'"
      ]
     },
     "execution_count": 83,
     "metadata": {},
     "output_type": "execute_result"
    }
   ],
   "source": [
    "caught_speeding(81,False)"
   ]
  },
  {
   "cell_type": "code",
   "execution_count": null,
   "id": "5fc44671",
   "metadata": {},
   "outputs": [],
   "source": []
  }
 ],
 "metadata": {
  "kernelspec": {
   "display_name": "Python 3 (ipykernel)",
   "language": "python",
   "name": "python3"
  },
  "language_info": {
   "codemirror_mode": {
    "name": "ipython",
    "version": 3
   },
   "file_extension": ".py",
   "mimetype": "text/x-python",
   "name": "python",
   "nbconvert_exporter": "python",
   "pygments_lexer": "ipython3",
   "version": "3.11.5"
  }
 },
 "nbformat": 4,
 "nbformat_minor": 5
}
