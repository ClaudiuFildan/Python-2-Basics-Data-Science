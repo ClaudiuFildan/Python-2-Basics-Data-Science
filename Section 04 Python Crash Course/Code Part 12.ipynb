{
 "cells": [
  {
   "cell_type": "code",
   "execution_count": 1,
   "id": "1b08113c",
   "metadata": {},
   "outputs": [
    {
     "name": "stdout",
     "output_type": "stream",
     "text": [
      "hello\n",
      "hello\n",
      "hello\n",
      "hello\n",
      "hello\n"
     ]
    }
   ],
   "source": [
    "seq=[1,2,3,4,5]\n",
    "for num in seq:\n",
    "    print('hello')"
   ]
  },
  {
   "cell_type": "code",
   "execution_count": 4,
   "id": "ac5bde28",
   "metadata": {},
   "outputs": [
    {
     "name": "stdout",
     "output_type": "stream",
     "text": [
      "i is: 1\n",
      "i is: 2\n",
      "i is: 3\n",
      "i is: 4\n"
     ]
    }
   ],
   "source": [
    "i=1\n",
    "while i<5:\n",
    "    print('i is: {}'.format(i))\n",
    "    i+=1"
   ]
  },
  {
   "cell_type": "code",
   "execution_count": 5,
   "id": "87ca29ee",
   "metadata": {},
   "outputs": [
    {
     "name": "stdout",
     "output_type": "stream",
     "text": [
      "0\n",
      "1\n",
      "2\n",
      "3\n",
      "4\n"
     ]
    }
   ],
   "source": [
    "for x in range(0,5):\n",
    "    print(x)"
   ]
  },
  {
   "cell_type": "code",
   "execution_count": 6,
   "id": "440dcd23",
   "metadata": {},
   "outputs": [
    {
     "data": {
      "text/plain": [
       "[0, 1, 2, 3, 4]"
      ]
     },
     "execution_count": 6,
     "metadata": {},
     "output_type": "execute_result"
    }
   ],
   "source": [
    "list(range(0,5))"
   ]
  },
  {
   "cell_type": "code",
   "execution_count": 7,
   "id": "00af3221",
   "metadata": {},
   "outputs": [
    {
     "data": {
      "text/plain": [
       "[0, 1, 2, 3, 4, 5, 6, 7, 8, 9]"
      ]
     },
     "execution_count": 7,
     "metadata": {},
     "output_type": "execute_result"
    }
   ],
   "source": [
    "list(range(10))"
   ]
  },
  {
   "cell_type": "code",
   "execution_count": 8,
   "id": "14cfdc52",
   "metadata": {},
   "outputs": [],
   "source": [
    "x=[1,2,3,4]"
   ]
  },
  {
   "cell_type": "code",
   "execution_count": 10,
   "id": "e577e0e8",
   "metadata": {},
   "outputs": [
    {
     "name": "stdout",
     "output_type": "stream",
     "text": [
      "[1, 4, 9, 16]\n"
     ]
    }
   ],
   "source": [
    "out=[]\n",
    "for num in x:\n",
    "    out.append(num**2)\n",
    "print(out)    "
   ]
  },
  {
   "cell_type": "code",
   "execution_count": 11,
   "id": "84a778fa",
   "metadata": {},
   "outputs": [
    {
     "data": {
      "text/plain": [
       "[1, 4, 9, 16]"
      ]
     },
     "execution_count": 11,
     "metadata": {},
     "output_type": "execute_result"
    }
   ],
   "source": [
    "[num**2 for num in x]"
   ]
  },
  {
   "cell_type": "code",
   "execution_count": 13,
   "id": "ce539a6b",
   "metadata": {},
   "outputs": [
    {
     "data": {
      "text/plain": [
       "[1, 4, 9, 16]"
      ]
     },
     "execution_count": 13,
     "metadata": {},
     "output_type": "execute_result"
    }
   ],
   "source": [
    "out=[num**2 for num in x]\n",
    "out"
   ]
  },
  {
   "cell_type": "code",
   "execution_count": 18,
   "id": "7742ab73",
   "metadata": {},
   "outputs": [],
   "source": [
    "def my_func(name):\n",
    "    print('Hello '+name)"
   ]
  },
  {
   "cell_type": "code",
   "execution_count": 20,
   "id": "b9f0decc",
   "metadata": {},
   "outputs": [
    {
     "name": "stdout",
     "output_type": "stream",
     "text": [
      "Hello Jose\n"
     ]
    }
   ],
   "source": [
    "my_func('Jose')"
   ]
  },
  {
   "cell_type": "code",
   "execution_count": 21,
   "id": "de02ab0f",
   "metadata": {},
   "outputs": [],
   "source": [
    "def my_func(name='Default Name'):\n",
    "    print('Hello '+name)"
   ]
  },
  {
   "cell_type": "code",
   "execution_count": 22,
   "id": "86e17527",
   "metadata": {},
   "outputs": [
    {
     "name": "stdout",
     "output_type": "stream",
     "text": [
      "Hello Default Name\n"
     ]
    }
   ],
   "source": [
    "my_func()"
   ]
  },
  {
   "cell_type": "code",
   "execution_count": 24,
   "id": "46ba0da8",
   "metadata": {},
   "outputs": [
    {
     "name": "stdout",
     "output_type": "stream",
     "text": [
      "Hello Jose\n"
     ]
    }
   ],
   "source": [
    "my_func('Jose')"
   ]
  },
  {
   "cell_type": "code",
   "execution_count": 25,
   "id": "e63b6d79",
   "metadata": {},
   "outputs": [
    {
     "data": {
      "text/plain": [
       "<function __main__.my_func(name='Default Name')>"
      ]
     },
     "execution_count": 25,
     "metadata": {},
     "output_type": "execute_result"
    }
   ],
   "source": [
    "my_func"
   ]
  },
  {
   "cell_type": "code",
   "execution_count": 32,
   "id": "4b71f33a",
   "metadata": {},
   "outputs": [],
   "source": [
    "def square(num):\n",
    "    \"\"\"\n",
    "    THIS IS A DOCSTRING\n",
    "    CAN GO MULTIPLE LINES.\n",
    "    THIS FUNCTION SQUARES A NUMBER.\n",
    "    \"\"\"\n",
    "    return num**2"
   ]
  },
  {
   "cell_type": "code",
   "execution_count": 33,
   "id": "a878ea2d",
   "metadata": {},
   "outputs": [],
   "source": [
    "output=square(2)"
   ]
  },
  {
   "cell_type": "code",
   "execution_count": 34,
   "id": "da750b21",
   "metadata": {},
   "outputs": [
    {
     "data": {
      "text/plain": [
       "4"
      ]
     },
     "execution_count": 34,
     "metadata": {},
     "output_type": "execute_result"
    }
   ],
   "source": [
    "output"
   ]
  },
  {
   "cell_type": "code",
   "execution_count": null,
   "id": "cc56248a",
   "metadata": {},
   "outputs": [],
   "source": [
    "square"
   ]
  }
 ],
 "metadata": {
  "kernelspec": {
   "display_name": "Python 3 (ipykernel)",
   "language": "python",
   "name": "python3"
  },
  "language_info": {
   "codemirror_mode": {
    "name": "ipython",
    "version": 3
   },
   "file_extension": ".py",
   "mimetype": "text/x-python",
   "name": "python",
   "nbconvert_exporter": "python",
   "pygments_lexer": "ipython3",
   "version": "3.11.5"
  }
 },
 "nbformat": 4,
 "nbformat_minor": 5
}
