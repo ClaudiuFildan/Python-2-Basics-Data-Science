{
 "cells": [
  {
   "cell_type": "code",
   "execution_count": 1,
   "id": "44f907e3",
   "metadata": {},
   "outputs": [],
   "source": [
    "# pip install pandas-datareader"
   ]
  },
  {
   "cell_type": "code",
   "execution_count": 2,
   "id": "b07e4337",
   "metadata": {},
   "outputs": [],
   "source": [
    "# Finance Data Project "
   ]
  },
  {
   "cell_type": "code",
   "execution_count": null,
   "id": "582a5b9d",
   "metadata": {},
   "outputs": [],
   "source": [
    "# Get the Data"
   ]
  },
  {
   "cell_type": "code",
   "execution_count": null,
   "id": "deeda6ef",
   "metadata": {},
   "outputs": [],
   "source": [
    "# The Imports"
   ]
  },
  {
   "cell_type": "code",
   "execution_count": 4,
   "id": "6663af38",
   "metadata": {},
   "outputs": [],
   "source": [
    "# from pandas_datareader import data, wb\n",
    "import pandas as pd\n",
    "import numpy as np\n",
    "import datetime\n",
    "%matplotlib inline"
   ]
  },
  {
   "cell_type": "code",
   "execution_count": null,
   "id": "0a23d0b3",
   "metadata": {},
   "outputs": [],
   "source": []
  },
  {
   "cell_type": "code",
   "execution_count": null,
   "id": "5474db5a",
   "metadata": {},
   "outputs": [],
   "source": [
    "# Data"
   ]
  },
  {
   "cell_type": "code",
   "execution_count": null,
   "id": "526b28b7",
   "metadata": {},
   "outputs": [],
   "source": []
  },
  {
   "cell_type": "code",
   "execution_count": 5,
   "id": "64a54b0f",
   "metadata": {},
   "outputs": [],
   "source": [
    "# Create a list of the ticker symbols (as strings)\n",
    "# in alphabetical order. Call this list: tickets"
   ]
  },
  {
   "cell_type": "code",
   "execution_count": null,
   "id": "c2166ba1",
   "metadata": {},
   "outputs": [],
   "source": []
  },
  {
   "cell_type": "code",
   "execution_count": null,
   "id": "646ae992",
   "metadata": {},
   "outputs": [],
   "source": [
    "# Use pd.concat to concatenate the bank dataframes together to\n",
    "# a single data frame called bank_stocks. Set the keys \n",
    "# argument equal to the tickers list. Also pay attention\n",
    "# to what axis you concatenate on."
   ]
  },
  {
   "cell_type": "code",
   "execution_count": null,
   "id": "9841bd7f",
   "metadata": {},
   "outputs": [],
   "source": []
  },
  {
   "cell_type": "code",
   "execution_count": 6,
   "id": "68a26082",
   "metadata": {},
   "outputs": [],
   "source": [
    "# Set the column name levels (this is filled out for you)."
   ]
  },
  {
   "cell_type": "code",
   "execution_count": null,
   "id": "b8cb7e62",
   "metadata": {},
   "outputs": [],
   "source": [
    "bank_stocks.columns.names=['Bank Ticker','Stock Info']"
   ]
  },
  {
   "cell_type": "code",
   "execution_count": null,
   "id": "33189aa4",
   "metadata": {},
   "outputs": [],
   "source": [
    "# Check the head of the bank_stocks dataframe."
   ]
  },
  {
   "cell_type": "code",
   "execution_count": null,
   "id": "abc46918",
   "metadata": {},
   "outputs": [],
   "source": [
    "# EDA\n",
    "# Let's explore the data a bit! Before continuing, I encourage you to check out the \n",
    "# documentation on Multi-Level Indexing and Using .xs. Reference the solutions if you can not \n",
    "# figure out how to use .xs(), since that will be a major part of this project."
   ]
  },
  {
   "cell_type": "code",
   "execution_count": null,
   "id": "754a9f5a",
   "metadata": {},
   "outputs": [],
   "source": [
    "# What is the max Close price for each bank's stock throughout the time period?"
   ]
  },
  {
   "cell_type": "code",
   "execution_count": null,
   "id": "2c769a4f",
   "metadata": {},
   "outputs": [],
   "source": []
  },
  {
   "cell_type": "code",
   "execution_count": 7,
   "id": "681549f9",
   "metadata": {},
   "outputs": [],
   "source": [
    "# Create a new empty DataFrame called returns. This dataframe \n",
    "# will contain the returns for each bank's stock returns are typically defined by:"
   ]
  },
  {
   "cell_type": "code",
   "execution_count": null,
   "id": "64d91082",
   "metadata": {},
   "outputs": [],
   "source": []
  },
  {
   "cell_type": "code",
   "execution_count": null,
   "id": "324ad28e",
   "metadata": {},
   "outputs": [],
   "source": [
    "# We can use pandas pct_change() method on the Close column to create a column representing this return\n",
    "# value. Create a for loop that goes and for each Bank Stock Ticker creates this returns column and\n",
    "# set's it as a column in the return DataFrame."
   ]
  },
  {
   "cell_type": "code",
   "execution_count": null,
   "id": "64b6a67b",
   "metadata": {},
   "outputs": [],
   "source": []
  },
  {
   "cell_type": "code",
   "execution_count": null,
   "id": "f507d37a",
   "metadata": {},
   "outputs": [],
   "source": [
    "# Create a pairplot using seaborn of the returns dataframe. What stock stands out to you? Can you figure \n",
    "# out why?"
   ]
  },
  {
   "cell_type": "code",
   "execution_count": null,
   "id": "31f9357e",
   "metadata": {},
   "outputs": [],
   "source": []
  },
  {
   "cell_type": "code",
   "execution_count": null,
   "id": "30bbf3f1",
   "metadata": {},
   "outputs": [],
   "source": [
    "# Using this returns DataFrame, figure out on what dates each bank stock had the best and worst single day\n",
    "# returns. You should notice that 4 of the banks share the same day for the worst drop, did anything \n",
    "# significant happen that day?"
   ]
  },
  {
   "cell_type": "code",
   "execution_count": null,
   "id": "fe0c959d",
   "metadata": {},
   "outputs": [],
   "source": []
  },
  {
   "cell_type": "code",
   "execution_count": 8,
   "id": "ba42ce76",
   "metadata": {},
   "outputs": [],
   "source": [
    "# You should have noticed that Citigroup's largest drop and biggest gain were very close to one another,\n",
    "# did anything significant happen in that time frame?"
   ]
  },
  {
   "cell_type": "code",
   "execution_count": null,
   "id": "914e8b28",
   "metadata": {},
   "outputs": [],
   "source": []
  },
  {
   "cell_type": "code",
   "execution_count": null,
   "id": "89f9a762",
   "metadata": {},
   "outputs": [],
   "source": [
    "# Take a look at the standard deviation of the returns, which stock would you classify as the riskiest over\n",
    "# the entire time period? Which would you classify as the riskiest for the year 2015?"
   ]
  },
  {
   "cell_type": "code",
   "execution_count": null,
   "id": "8466c54c",
   "metadata": {},
   "outputs": [],
   "source": []
  },
  {
   "cell_type": "code",
   "execution_count": null,
   "id": "5547214d",
   "metadata": {},
   "outputs": [],
   "source": [
    "# Create a distplot using seaborn of the 2015 returns for Morgan Stanley?"
   ]
  },
  {
   "cell_type": "code",
   "execution_count": null,
   "id": "8416db05",
   "metadata": {},
   "outputs": [],
   "source": []
  },
  {
   "cell_type": "code",
   "execution_count": null,
   "id": "0bc627b3",
   "metadata": {},
   "outputs": [],
   "source": [
    "# Create a distplot using seaborn of the 2008 returns for CitiGroup"
   ]
  },
  {
   "cell_type": "code",
   "execution_count": null,
   "id": "66d8fa5b",
   "metadata": {},
   "outputs": [],
   "source": []
  },
  {
   "cell_type": "code",
   "execution_count": 9,
   "id": "a62a8601",
   "metadata": {},
   "outputs": [],
   "source": [
    "# More Visualization"
   ]
  },
  {
   "cell_type": "code",
   "execution_count": 10,
   "id": "a7809a1f",
   "metadata": {},
   "outputs": [
    {
     "data": {
      "text/html": [
       "        <script type=\"text/javascript\">\n",
       "        window.PlotlyConfig = {MathJaxConfig: 'local'};\n",
       "        if (window.MathJax && window.MathJax.Hub && window.MathJax.Hub.Config) {window.MathJax.Hub.Config({SVG: {font: \"STIX-Web\"}});}\n",
       "        if (typeof require !== 'undefined') {\n",
       "        require.undef(\"plotly\");\n",
       "        requirejs.config({\n",
       "            paths: {\n",
       "                'plotly': ['https://cdn.plot.ly/plotly-2.12.1.min']\n",
       "            }\n",
       "        });\n",
       "        require(['plotly'], function(Plotly) {\n",
       "            window._Plotly = Plotly;\n",
       "        });\n",
       "        }\n",
       "        </script>\n",
       "        "
      ]
     },
     "metadata": {},
     "output_type": "display_data"
    }
   ],
   "source": [
    "import matplotlib.pyplot as plt\n",
    "import seaborn as sns\n",
    "sns.set_style('whitegrid')\n",
    "%matplotlib inline\n",
    "\n",
    "# Optional Plotly Method Imports\n",
    "import plotly\n",
    "import cufflinks as cf\n",
    "cf.go_offline()"
   ]
  },
  {
   "cell_type": "code",
   "execution_count": null,
   "id": "7e6257f0",
   "metadata": {},
   "outputs": [],
   "source": [
    "# Create a line plot showing Close price for each bank for the entire index of time.\n",
    "# (Hint: Try using a for loop, or use .xs to get a cross section of the data)"
   ]
  },
  {
   "cell_type": "code",
   "execution_count": null,
   "id": "8a517832",
   "metadata": {},
   "outputs": [],
   "source": []
  },
  {
   "cell_type": "code",
   "execution_count": 11,
   "id": "0d97a885",
   "metadata": {},
   "outputs": [],
   "source": [
    "# Moving Averages"
   ]
  },
  {
   "cell_type": "code",
   "execution_count": null,
   "id": "04c79508",
   "metadata": {},
   "outputs": [],
   "source": [
    "# plot the rolling 30 day average against the Close Price for Bank of America's\n",
    "# stock for the year 2008."
   ]
  },
  {
   "cell_type": "code",
   "execution_count": null,
   "id": "a0ce5c37",
   "metadata": {},
   "outputs": [],
   "source": []
  },
  {
   "cell_type": "code",
   "execution_count": null,
   "id": "2a8e9649",
   "metadata": {},
   "outputs": [],
   "source": [
    "# Create a heatmap of the correlation between the stocks Close Price."
   ]
  },
  {
   "cell_type": "code",
   "execution_count": null,
   "id": "bbf7db16",
   "metadata": {},
   "outputs": [],
   "source": []
  },
  {
   "cell_type": "code",
   "execution_count": null,
   "id": "c052786e",
   "metadata": {},
   "outputs": [],
   "source": [
    "# Optional: Use seaborn's clustermap to cluster the correlations together."
   ]
  },
  {
   "cell_type": "code",
   "execution_count": null,
   "id": "0c3a9c0e",
   "metadata": {},
   "outputs": [],
   "source": []
  },
  {
   "cell_type": "code",
   "execution_count": null,
   "id": "7427c294",
   "metadata": {},
   "outputs": [],
   "source": [
    "# Part 2\n",
    "# In this second part of the project we will rely on the cufflinks library to create some \n",
    "# Technical Analysis plots. This part of the project is experimental due to its heavy \n",
    "# reliance on the cuffinks project, so feel free to skip it if any functionality is \n",
    "# broken in the future."
   ]
  },
  {
   "cell_type": "code",
   "execution_count": null,
   "id": "589ca680",
   "metadata": {},
   "outputs": [],
   "source": [
    "# Use .iplot(kind='candle) to create a candle plot of Bank of America's stock from Jan 1st 2015 to \n",
    "# Jan 1st 2016."
   ]
  },
  {
   "cell_type": "code",
   "execution_count": null,
   "id": "d9bf2419",
   "metadata": {},
   "outputs": [],
   "source": []
  },
  {
   "cell_type": "code",
   "execution_count": 13,
   "id": "d8db7cff",
   "metadata": {},
   "outputs": [],
   "source": [
    "# Use .ta_plot(study='sma') to create a Simple Moving Averages plot of Morgan Stanley for the year 2015."
   ]
  },
  {
   "cell_type": "code",
   "execution_count": null,
   "id": "99a6962c",
   "metadata": {},
   "outputs": [],
   "source": []
  },
  {
   "cell_type": "code",
   "execution_count": 14,
   "id": "da77e95d",
   "metadata": {},
   "outputs": [],
   "source": [
    "# Use .ta_plot(study='boll') to create a Bollinger Band Plot for Bank of America for the year 2015."
   ]
  },
  {
   "cell_type": "code",
   "execution_count": null,
   "id": "9d8075b6",
   "metadata": {},
   "outputs": [],
   "source": [
    "# Great Job!"
   ]
  }
 ],
 "metadata": {
  "kernelspec": {
   "display_name": "Python 3 (ipykernel)",
   "language": "python",
   "name": "python3"
  },
  "language_info": {
   "codemirror_mode": {
    "name": "ipython",
    "version": 3
   },
   "file_extension": ".py",
   "mimetype": "text/x-python",
   "name": "python",
   "nbconvert_exporter": "python",
   "pygments_lexer": "ipython3",
   "version": "3.11.5"
  }
 },
 "nbformat": 4,
 "nbformat_minor": 5
}
