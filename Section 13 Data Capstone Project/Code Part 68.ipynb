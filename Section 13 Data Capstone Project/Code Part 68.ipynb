{
 "cells": [
  {
   "cell_type": "code",
   "execution_count": 1,
   "id": "5e4b9c46",
   "metadata": {},
   "outputs": [],
   "source": [
    "### 911 Call Capstone Project"
   ]
  },
  {
   "cell_type": "code",
   "execution_count": 2,
   "id": "b971b596",
   "metadata": {},
   "outputs": [],
   "source": [
    "# Data and Setup"
   ]
  },
  {
   "cell_type": "code",
   "execution_count": 3,
   "id": "1873fb2a",
   "metadata": {},
   "outputs": [],
   "source": [
    "# Import numpy and pandas "
   ]
  },
  {
   "cell_type": "code",
   "execution_count": null,
   "id": "70afd61d",
   "metadata": {},
   "outputs": [],
   "source": []
  },
  {
   "cell_type": "code",
   "execution_count": 4,
   "id": "7342c823",
   "metadata": {},
   "outputs": [],
   "source": [
    "# Import visualization libraries and set %matplotlib inline"
   ]
  },
  {
   "cell_type": "code",
   "execution_count": null,
   "id": "b5223b92",
   "metadata": {},
   "outputs": [],
   "source": []
  },
  {
   "cell_type": "code",
   "execution_count": null,
   "id": "b423d39e",
   "metadata": {},
   "outputs": [],
   "source": [
    "#  Read in the csv file as a dataframe called df"
   ]
  },
  {
   "cell_type": "code",
   "execution_count": null,
   "id": "c4de2bc0",
   "metadata": {},
   "outputs": [],
   "source": []
  },
  {
   "cell_type": "code",
   "execution_count": 5,
   "id": "8ca1775f",
   "metadata": {},
   "outputs": [],
   "source": [
    "# Check the info()  of the df"
   ]
  },
  {
   "cell_type": "code",
   "execution_count": null,
   "id": "10374f48",
   "metadata": {},
   "outputs": [],
   "source": []
  },
  {
   "cell_type": "code",
   "execution_count": 6,
   "id": "7e9269d3",
   "metadata": {},
   "outputs": [],
   "source": [
    "# Check the head of df"
   ]
  },
  {
   "cell_type": "code",
   "execution_count": null,
   "id": "79ee442f",
   "metadata": {},
   "outputs": [],
   "source": []
  },
  {
   "cell_type": "code",
   "execution_count": 7,
   "id": "72ca544b",
   "metadata": {},
   "outputs": [],
   "source": [
    "# Basic Questions"
   ]
  },
  {
   "cell_type": "code",
   "execution_count": null,
   "id": "a2961c4f",
   "metadata": {},
   "outputs": [],
   "source": [
    "# What are the top 5 zopcodes for 911 calls?"
   ]
  },
  {
   "cell_type": "code",
   "execution_count": null,
   "id": "0e24b124",
   "metadata": {},
   "outputs": [],
   "source": []
  },
  {
   "cell_type": "code",
   "execution_count": null,
   "id": "89282d68",
   "metadata": {},
   "outputs": [],
   "source": [
    "# What are the top 5 townships (twp) for 911 calls?"
   ]
  },
  {
   "cell_type": "code",
   "execution_count": null,
   "id": "e86fbfc1",
   "metadata": {},
   "outputs": [],
   "source": []
  },
  {
   "cell_type": "code",
   "execution_count": 8,
   "id": "fd06d91a",
   "metadata": {},
   "outputs": [],
   "source": [
    "# Take a look at the 'title' column, how many unique title codesare there?"
   ]
  },
  {
   "cell_type": "code",
   "execution_count": null,
   "id": "16f83d1c",
   "metadata": {},
   "outputs": [],
   "source": []
  },
  {
   "cell_type": "code",
   "execution_count": 9,
   "id": "517e4112",
   "metadata": {},
   "outputs": [],
   "source": [
    "# Creating new features"
   ]
  },
  {
   "cell_type": "code",
   "execution_count": 10,
   "id": "1ccd978d",
   "metadata": {},
   "outputs": [],
   "source": [
    "# In the titles column there are 'Reasons/Departments' specified before\n",
    "# the title code. These are EMS, Fire, and Traffic. Use .apply() with \n",
    "# a custom lambda expresiion to create a new column called 'Reason'\n",
    "# that contains this string value"
   ]
  },
  {
   "cell_type": "code",
   "execution_count": null,
   "id": "a3dedcaf",
   "metadata": {},
   "outputs": [],
   "source": [
    "# For example, if the title column value is EMS: BACK PAINS/INJURY \n",
    "# the Reason columnvalue would be EMS."
   ]
  },
  {
   "cell_type": "code",
   "execution_count": null,
   "id": "9eda9382",
   "metadata": {},
   "outputs": [],
   "source": []
  },
  {
   "cell_type": "code",
   "execution_count": null,
   "id": "03cb4a92",
   "metadata": {},
   "outputs": [],
   "source": [
    "#  What id the most common Reason  for a 911 call based off\n",
    "# of this new column?"
   ]
  },
  {
   "cell_type": "code",
   "execution_count": null,
   "id": "9514f749",
   "metadata": {},
   "outputs": [],
   "source": []
  },
  {
   "cell_type": "code",
   "execution_count": 11,
   "id": "855fa49a",
   "metadata": {},
   "outputs": [],
   "source": [
    "# Now use seaborn to create a countplot of 911 calls by Reason."
   ]
  },
  {
   "cell_type": "code",
   "execution_count": null,
   "id": "607d2235",
   "metadata": {},
   "outputs": [],
   "source": []
  },
  {
   "cell_type": "code",
   "execution_count": 12,
   "id": "7ba09312",
   "metadata": {},
   "outputs": [],
   "source": [
    "# Now let us begin to focus on time information. Whta is the data type\n",
    "# of the objects in the timeStamp column?"
   ]
  },
  {
   "cell_type": "code",
   "execution_count": null,
   "id": "d2f0d708",
   "metadata": {},
   "outputs": [],
   "source": []
  },
  {
   "cell_type": "code",
   "execution_count": 13,
   "id": "f634023c",
   "metadata": {},
   "outputs": [],
   "source": [
    "# You should have seen that these timestamps are still strings.\n",
    "# Use pd.to_datetime to convert the column from string to DataTime objects."
   ]
  },
  {
   "cell_type": "code",
   "execution_count": null,
   "id": "b3c7cecb",
   "metadata": {},
   "outputs": [],
   "source": []
  },
  {
   "cell_type": "code",
   "execution_count": 14,
   "id": "7c1ed552",
   "metadata": {},
   "outputs": [],
   "source": [
    "# You can now grab specific attributes from a Datatime object\n",
    "# by calling them. For example:"
   ]
  },
  {
   "cell_type": "code",
   "execution_count": null,
   "id": "b22aea57",
   "metadata": {},
   "outputs": [],
   "source": [
    "#time=df['timeStamp'].iloc[0]\n",
    "#time.hour"
   ]
  },
  {
   "cell_type": "code",
   "execution_count": 15,
   "id": "e693e2e7",
   "metadata": {},
   "outputs": [],
   "source": [
    "# You can use Jupyter's tab method to explore the various attributes\n",
    "# you can call. Now that the timestamp column are actuallyDataTime objects,\n",
    "# use .apply() to create 3 new columns called Hour, Month and Day of Week.\n",
    "# You will create these columns based off of the timeStamp column, reference\n",
    "# the solutions if you get stuck on this step."
   ]
  },
  {
   "cell_type": "code",
   "execution_count": null,
   "id": "6c48ae6b",
   "metadata": {},
   "outputs": [],
   "source": []
  },
  {
   "cell_type": "code",
   "execution_count": 17,
   "id": "145683c4",
   "metadata": {},
   "outputs": [],
   "source": [
    "# Notice how the Day of Week is an integer 0-6. Use the .map() with this\n",
    "# dictionary to map the actual string names to the day of the week:"
   ]
  },
  {
   "cell_type": "code",
   "execution_count": null,
   "id": "f2e65ff2",
   "metadata": {},
   "outputs": [],
   "source": []
  },
  {
   "cell_type": "code",
   "execution_count": 18,
   "id": "97b63c3d",
   "metadata": {},
   "outputs": [],
   "source": [
    "# Now use seaborn to create a countplot of the Day of Week column with\n",
    "#the hue based off of the Reason column."
   ]
  },
  {
   "cell_type": "code",
   "execution_count": null,
   "id": "60f72c54",
   "metadata": {},
   "outputs": [],
   "source": []
  },
  {
   "cell_type": "code",
   "execution_count": null,
   "id": "fc4f787d",
   "metadata": {},
   "outputs": [],
   "source": [
    "# Now do the same for the Month"
   ]
  },
  {
   "cell_type": "code",
   "execution_count": null,
   "id": "1f092d17",
   "metadata": {},
   "outputs": [],
   "source": []
  },
  {
   "cell_type": "code",
   "execution_count": 20,
   "id": "bcd0c786",
   "metadata": {},
   "outputs": [],
   "source": [
    "# Now create a groupby object called byMonth, where you group the DataFrame\n",
    "# by the month column and use the count() method for aggregation.\n",
    "# Use the head() method on this returned DataFrame."
   ]
  },
  {
   "cell_type": "code",
   "execution_count": null,
   "id": "0224c977",
   "metadata": {},
   "outputs": [],
   "source": []
  },
  {
   "cell_type": "code",
   "execution_count": null,
   "id": "5842d9fd",
   "metadata": {},
   "outputs": [],
   "source": [
    "# Now create a simple plot off of the dataframe indicating the count of \n",
    "# calls per month."
   ]
  },
  {
   "cell_type": "code",
   "execution_count": null,
   "id": "b61140ef",
   "metadata": {},
   "outputs": [],
   "source": []
  },
  {
   "cell_type": "code",
   "execution_count": null,
   "id": "26d829fd",
   "metadata": {},
   "outputs": [],
   "source": [
    "# Now see if you can use seaborn's lmplot() to create a linear fit on the \n",
    "# number of calls per month. Keep in mind you may need to reset the \n",
    "# index to a column."
   ]
  },
  {
   "cell_type": "code",
   "execution_count": null,
   "id": "40e1e5e8",
   "metadata": {},
   "outputs": [],
   "source": []
  },
  {
   "cell_type": "code",
   "execution_count": null,
   "id": "0e233045",
   "metadata": {},
   "outputs": [],
   "source": [
    "# Create a new column called 'Date' that contains the date from the \n",
    "# timeStamp column. You will need to use apply along with the \n",
    "# .date() method."
   ]
  },
  {
   "cell_type": "code",
   "execution_count": null,
   "id": "e08f9c2e",
   "metadata": {},
   "outputs": [],
   "source": []
  },
  {
   "cell_type": "code",
   "execution_count": null,
   "id": "199ce014",
   "metadata": {},
   "outputs": [],
   "source": [
    "# Now groupby this Date column with the count() aggregate and create\n",
    "# a plot of counts of 911 calls."
   ]
  },
  {
   "cell_type": "code",
   "execution_count": null,
   "id": "c5cddad7",
   "metadata": {},
   "outputs": [],
   "source": []
  },
  {
   "cell_type": "code",
   "execution_count": null,
   "id": "efd87e23",
   "metadata": {},
   "outputs": [],
   "source": [
    "# Now recreate this plot but create 3 separate plots with each plot representing\n",
    "# a Reason for the 911 call"
   ]
  },
  {
   "cell_type": "code",
   "execution_count": null,
   "id": "3de67489",
   "metadata": {},
   "outputs": [],
   "source": []
  },
  {
   "cell_type": "code",
   "execution_count": 21,
   "id": "ce44759c",
   "metadata": {},
   "outputs": [],
   "source": [
    "# Now let's move on to creating heatmaps with seaborn and our data. We will first\n",
    "# need to restructure the dataframe so that the columns become the Hours and the \n",
    "# Index becomes the Day of the Week. There are lots of ways to do this, but I\n",
    "# would recommend trying to combine groupby with an unstack method. Reference \n",
    "# the solutions if you get stuck on this!"
   ]
  },
  {
   "cell_type": "code",
   "execution_count": null,
   "id": "2d9ebdb8",
   "metadata": {},
   "outputs": [],
   "source": []
  },
  {
   "cell_type": "code",
   "execution_count": null,
   "id": "765348ce",
   "metadata": {},
   "outputs": [],
   "source": [
    "# Now create a HeatMap using this new DataFrame."
   ]
  },
  {
   "cell_type": "code",
   "execution_count": null,
   "id": "d842daba",
   "metadata": {},
   "outputs": [],
   "source": []
  },
  {
   "cell_type": "code",
   "execution_count": 22,
   "id": "d593eee4",
   "metadata": {},
   "outputs": [],
   "source": [
    "# Now create a clustermap using this DataFrame."
   ]
  },
  {
   "cell_type": "code",
   "execution_count": null,
   "id": "63ea23bd",
   "metadata": {},
   "outputs": [],
   "source": []
  },
  {
   "cell_type": "code",
   "execution_count": 25,
   "id": "c50a572f",
   "metadata": {},
   "outputs": [],
   "source": [
    "# Now repeat these same plots and operations, for a \n",
    "# DataFrame that shows the Month as the column."
   ]
  },
  {
   "cell_type": "code",
   "execution_count": null,
   "id": "d8e85169",
   "metadata": {},
   "outputs": [],
   "source": []
  },
  {
   "cell_type": "code",
   "execution_count": 24,
   "id": "25c87cfa",
   "metadata": {},
   "outputs": [],
   "source": [
    "# Great Job"
   ]
  },
  {
   "cell_type": "code",
   "execution_count": null,
   "id": "3451f4fe",
   "metadata": {},
   "outputs": [],
   "source": []
  }
 ],
 "metadata": {
  "kernelspec": {
   "display_name": "Python 3 (ipykernel)",
   "language": "python",
   "name": "python3"
  },
  "language_info": {
   "codemirror_mode": {
    "name": "ipython",
    "version": 3
   },
   "file_extension": ".py",
   "mimetype": "text/x-python",
   "name": "python",
   "nbconvert_exporter": "python",
   "pygments_lexer": "ipython3",
   "version": "3.11.5"
  }
 },
 "nbformat": 4,
 "nbformat_minor": 5
}
